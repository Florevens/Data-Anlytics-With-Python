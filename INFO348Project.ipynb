{
 "cells": [
  {
   "cell_type": "code",
   "execution_count": 1,
   "metadata": {},
   "outputs": [
    {
     "data": {
      "application/vnd.plotly.v1+json": {
       "config": {
        "plotlyServerURL": "https://plot.ly"
       },
       "data": [
        {
         "hovertemplate": "%{text}<br>Release Date: %{x}<br>View Count: %{y}",
         "legendgroup": "",
         "marker": {
          "color": "#636efa",
          "symbol": "circle"
         },
         "mode": "markers",
         "name": "",
         "orientation": "v",
         "showlegend": false,
         "text": [
          "03' Adolescence",
          "1 0 0 . m i l ’",
          "1-888-88-DREAM",
          "1985",
          "1993",
          "2007",
          "2012",
          "2014 Forest Hills Drive Tour Dates",
          "24k of Gold",
          "24k Of Gold (Remix)",
          "2Face",
          "3 Wishes",
          "4 Your Eyez Only",
          "90 Proof",
          "9 5 . s o u t h",
          "[Admire Her]",
          "Adonis Interlude (The Montage)",
          "AfricAryaN",
          "Ain’t That Some Shit (Interlude)",
          "Album of the Year (Freestyle)",
          "All I Want Is You",
          "All My Life",
          "All My Life (Burna Boy Remix)",
          "All My Life (Stray Kids Remix)",
          "​a lot",
          "​​a lot (Video Version)",
          "​​a m a r i",
          "American Dream",
          "Animals (Remix)",
          "Anthem",
          "Apparently",
          "​​a p p l y i n g . p r e s s u r e",
          "A Star Is Born",
          "A Star is Born (BET Performance)",
          "A Tale of 2 Citiez",
          "Atlantic City Freestyle",
          "ATM",
          "Autism Speaks Apology Letter",
          "Back to the Topic (Freestyle)",
          "Bad Girls Club",
          "Beautiful Bliss",
          "Before I’m Gone",
          "Be Free",
          "Be Free (Live on The Late Show with David Letterman)",
          "Be (Freestyle)",
          "Best Friend",
          "Bitchez",
          "Black Friday",
          "Black Grammys",
          "Black Heaven",
          "​Blood Moon",
          "Blowin’ Smoke",
          "Blow Up",
          "Boblo Boat",
          "Boca Raton",
          "Born Singer",
          "Born Sinner",
          "Born Sinner: Album Covers",
          "BRACKETS",
          "Breakdown",
          "Bring Em In",
          "Bun B for President",
          "Business is Business* (Might Delete Later, Vol. 2)",
          "Buyou",
          "Caged Bird",
          "Can I Bus",
          "Can I Get Witcha",
          "Can I Holla At Ya",
          "Can I Kick It? (J. Cole Remix)",
          "Can I Live",
          "Can’t Call It",
          "Can’t Cry",
          "Can’t Get Enough",
          "Carolina On My Mind",
          "Chaining Day",
          "Champion (Remix)",
          "Change",
          "Change The World",
          "Cheer Up",
          "Children Of Men",
          "Chris Tucker",
          "​​c l o s e",
          "Cold Blood",
          "Cole Summer",
          "Cole World",
          "College Boy",
          "Come For Me (Unlocked)",
          "Come Through and Chill",
          "Coming Down",
          "Coming Home",
          "Coming Home",
          "Coming Home (Dirty South Remix)",
          "Coming Home, Pt. II",
          "Cosmic Kev Freestyle",
          "Cost Me a Lot",
          "Cousins",
          "Crooked Smile",
          "Crooked Smile (Original)",
          "Crunch Time",
          "Culture",
          "Daddy’s Little Girl",
          "Dead Presidents",
          "Dead Presidents II",
          "Deja Vu",
          "Diamonds",
          "Diamonds",
          "Disgusting",
          "DJ Enuff Freestyle",
          "Dolla and A Dream",
          "Dollar and a Dream II",
          "Dollar and a Dream III",
          "Down Bad",
          "Down Bad (Original Version)",
          "Drank In My Cup Freestyle",
          "Dreams",
          "Drug Test",
          "D/vision",
          "Enchanted",
          "​everybody dies",
          "Evil Ways",
          "Eyez Freestyle",
          "FaceTime",
          "FaceTime (Remix)",
          "False Prophets",
          "Family and Loyalty",
          "Farewell",
          "Feel Love",
          "Fire Squad",
          "First Person Shooter",
          "Fitted Cap",
          "Fly Together (Remix)",
          "Foldin Clothes",
          "Folgers Crystals",
          "Forbidden Fruit",
          "For Whom the Bell Tolls",
          "Fragrance",
          "Freedom of Speech",
          "Freestyle At Kendrick Lamar Concert",
          "Friday Night Lights (Intro)",
          "FRIENDS",
          "Front Desk",
          "Funkmaster Flex Freestyle (Part 1)",
          "Funkmaster Flex Freestyle (Part 2)",
          "Funkmaster Flex Freestyle (Part 3)",
          "Get Away",
          "Get Free ColeWorld",
          "Get It",
          "God’s Gift",
          "Goin Off",
          "G.O.M.D.",
          "Good Game",
          "Great Ones",
          "Green Ranger",
          "Grew Up Fast",
          "Grown Simba",
          "Hate Me Now",
          "Head Bussa",
          "Heartache",
          "Heavens EP",
          "Heavy",
          "Hello",
          "Hell’s Kitchen",
          "Higher",
          "High for Hours",
          "HiiiPoWeR",
          "Hold It Down",
          "Home Alone",
          "Homecoming",
          "Home for the Holidays",
          "House Of Blues Freestyle",
          "How Did I Get Here",
          "How High",
          "​h u n g e r . o n . h i l l s i d e",
          "Hurt Feelings",
          "Icarus",
          "I Do My Thing",
          "I Get Up",
          "I Got It",
          "I’m a Fool",
          "Immortal",
          "I’m On 2.0",
          "I’m On It",
          "I’m the Man",
          "Infinity+2",
          "​i n t e r l u d e",
          "Interlude (Cole World)",
          "In The Mornin’",
          "In the Morning",
          "In The Room",
          "Intro",
          "Intro (2014 Forest Hills Drive)",
          "Intro (KOD)",
          "Intro (The Come Up Vol. 1)",
          "Intro (The Warm Up)",
          "I Really Mean It (Freestyle)",
          "Is She Gon Pop",
          "It Only Gets Better",
          "It Won’t Be Long",
          "January 28th",
          "January 28th (Live)",
          "Javari (Want You to Fly)",
          "J. Cole Freestyle | LA Leakers Freestyle #108",
          "J. Cole’s Top 25 Verses",
          "Jermaine’s Interlude",
          "Jimmy Cooks",
          "Jodeci Freestyle",
          "Johnny P’s Caddy",
          "Just Begun",
          "Just to Get By",
          "Kenny Lofton",
          "Kerney Sermon (Skit)",
          "Kevin’s Heart",
          "Killers",
          "Kind Of...Sometimes...Maybe (J. Cole Remix)",
          "Knock Knock",
          "Knock on Wood (Freestyle)",
          "Knock tha Hustle (Remix)",
          "KOD",
          "Ladies",
          "LaLa Challenge",
          "LAnd of the Snakes",
          "Last Call",
          "LAUDER",
          "Lay Up",
          "LEGENDARY",
          "​l e t . g o . m y . h a n d",
          "Let It Show",
          "Let Me Calm Down",
          "Let Nas Down",
          "Lifestyle",
          "Lights Please",
          "Like a Star",
          "Like It Or Love It",
          "Lil Ghetto Nigga",
          "Lil’ Niggaz (Snippet)",
          "Lion King on Ice",
          "Lit",
          "Live And Learn",
          "LONDON",
          "Looking for Trouble",
          "Look In The Mirror (Remix)",
          "Losing My Balance",
          "Lost Ones",
          "Louis Vuitton",
          "Louis Vuitton (Extended Version)",
          "Love Me Not",
          "Love Yourz",
          "Love Yourz (Live)",
          "Ma Boy",
          "Made Nas Proud [Let Nas Down Remix]",
          "MAFIA",
          "Maine On Fire",
          "Mama Told Me",
          "May the Bitter Man Win",
          "MIDDLE CHILD",
          "Mighty Crazy",
          "Miss America",
          "Miss America Reprise",
          "Mitus Touch",
          "Mo Money (Interlude)",
          "Motiv8",
          "M.P.A.",
          "Mr. Nice Watch",
          "My Boy (Freestyle)",
          "​​m y . l i f e",
          "My Nigga Just Made Bail",
          "NBA Playoff Promo",
          "Need U Bad (Remix)",
          "Neighbors",
          "N.E.R.D.",
          "Neverland",
          "Never Told",
          "New York Times",
          "Niggaz Know",
          "Night Job",
          "Nobody’s Perfect",
          "No Holding Me Back",
          "No Role Modelz",
          "No Role Modelz (Live)",
          "No Sleeep",
          "Note to Self",
          "Nothing Lasts Forever",
          "Nothing Like It",
          "Off Deez",
          "Ogogoro",
          "Oh Wow...Swerve",
          "Once an Addict (Interlude)",
          "Only Wanna Give It To You",
          "​on the street",
          "On Top of the World",
          "OSOM",
          "Palm Trees",
          "Paper Cuts",
          "Party (Remix)",
          "Pass Me By",
          "Passport Bros",
          "Photograph",
          "Pinball II",
          "Pity",
          "Planez",
          "Planez (August Alsina Remix)",
          "Playground",
          "POF",
          "Poke It Out",
          "Power 105.1 Freestyle",
          "Power 106 Freestyle with Joey Bada$$",
          "Powered Up* (Might Delete Later, Vol. 1)",
          "Power Trip",
          "Pray",
          "Premeditated Murder",
          "Pretty Little Fears",
          "Pretty Little Fears (Live)",
          "​​p r i d e . i s . t h e . d e v i l",
          "Problems",
          "​procrastination (broke)",
          "Produced by J. Cole",
          "Prove It",
          "​​p u n c h i n ’ . t h e . c l o c k",
          "Purge",
          "Purple Emoji",
          "Purple Emoji (Emoji Version)",
          "Purple Rain",
          "Queen Space",
          "Quote Me",
          "Ragamuffin (Remix)",
          "Raggamuffin (Remix)",
          "Rags to Riches (At The Beep)",
          "Rather Be (Vagina Is For Lovers)",
          "Relaxation",
          "Rembrandt...Run It Back",
          "Return Of Simba",
          "Revenge of the Dreamers",
          "Rich Niggaz",
          "Rise Above",
          "Rise and Shine",
          "RNP",
          "Roll Call",
          "Royal Flush",
          "Runaway",
          "Sacrifices",
          "Sanufa",
          "Sapiosexual",
          "Say Na",
          "Scared Money",
          "School Daze",
          "See It To Believe It",
          "See World",
          "Serenade",
          "Shadows",
          "Shea Butter Baby",
          "She Knows",
          "She’s Mine, Pt. 1",
          "She’s Mine, Pt. 2",
          "Shock the World",
          "Shook Ones (Freestyle)",
          "Show Me Something",
          "Sideline Story",
          "Simba",
          "Skrawberries",
          "Sky Boy",
          "Smallville",
          "S&M (J. Cole Remix)",
          "Snow On Tha Bluff",
          "Sojourner",
          "Song for the Ville",
          "Sparks Will Fly",
          "Split You Up",
          "Stain in the Game",
          "Stars",
          "Stay (2009)",
          "Stay (Remix)",
          "Stick",
          "Still Slummin’",
          "Stressed",
          "St. Tropez",
          "Sunset",
          "Supply Luh",
          "Tears for ODB",
          "Temptation",
          "Thanks",
          "The Autograph",
          "The Badness",
          "​t h e . c l i m b . b a c k",
          "The Come Up",
          "The Come Up Show Freestyle",
          "The Cure",
          "The Cut Off",
          "The Good Son Pt. 1",
          "[The Jackie]",
          "The Jig Is Up (Dump’n)",
          "The Last Stretch",
          "The London",
          "The London (Demo)",
          "The Man, The Myth, The Legend (Interlude)",
          "The Pessimist",
          "The Plan",
          "There I Go",
          "The Secret Recipe",
          "The Storm",
          "They Ready",
          "Things Change",
          "This Time",
          "Thotty",
          "Throw It Up",
          "Tidal Wave (just a little reference)",
          "Til’ Infinity",
          "TKO (Black Friday Remix)",
          "Too Deep for the Intro",
          "To Summer, From Cole (Audio Hug)",
          "Tribe",
          "Trippy",
          "Trouble",
          "Trouble",
          "Trouble (Remix)",
          "True Love",
          "Two Tens",
          "Unabomber",
          "Undercover",
          "Under the Sun",
          "Vendetta",
          "Villematic",
          "Ville Mentality",
          "Villuminati",
          "Visionz of Home",
          "Voodoo",
          "Warm Enough",
          "WATERBOYZ",
          "Water Break (Interlude)",
          "Welcome",
          "We On",
          "Wet Dreamz",
          "Where’s Jermaine (Skit)",
          "Who Dat",
          "Who Datt Pt. 2",
          "Who’s World is This",
          "Willow Tree",
          "Window Pain (Outro)",
          "Winter Schemes",
          "Work Out",
          "World is Empty",
          "You Got It",
          "Your Heart",
          "Zendaya"
         ],
         "textposition": "top center",
         "texttemplate": "%{text}",
         "type": "scatter",
         "x": [
          "2014-12-09T00:00:00",
          "2021-05-14T00:00:00",
          "2014-01-28T00:00:00",
          "2018-04-20T00:00:00",
          "2019-07-05T00:00:00",
          "2022-08-18T00:00:00",
          "2012-12-20T00:00:00",
          "2015-03-02T00:00:00",
          "2012-09-05T00:00:00",
          "2013-07-11T00:00:00",
          "2010-11-12T00:00:00",
          "2013-04-30T00:00:00",
          "2016-12-09T00:00:00",
          "2022-09-30T00:00:00",
          "2021-05-14T00:00:00",
          "2022-04-15T00:00:00",
          "2023-03-03T00:00:00",
          "2017-05-05T00:00:00",
          "2013-06-18T00:00:00",
          "2018-08-07T00:00:00",
          "2010-05-25T00:00:00",
          "2023-05-12T00:00:00",
          "2023-10-13T00:00:00",
          "2023-10-13T00:00:00",
          "2018-12-21T00:00:00",
          "2019-02-01T00:00:00",
          "2021-05-14T00:00:00",
          "2017-12-14T00:00:00",
          "2014-09-29T00:00:00",
          "2023-03-03T00:00:00",
          "2014-12-09T00:00:00",
          "2021-05-14T00:00:00",
          "2009-09-08T00:00:00",
          "2009-06-28T00:00:00",
          "2014-12-09T00:00:00",
          null,
          "2018-04-20T00:00:00",
          null,
          "2010-11-12T00:00:00",
          "2011-07-14T00:00:00",
          "2009-11-10T00:00:00",
          "2010-11-12T00:00:00",
          "2014-08-15T00:00:00",
          "2014-12-10T00:00:00",
          "2011-08-07T00:00:00",
          "2010-11-12T00:00:00",
          "2014-01-28T00:00:00",
          "2015-11-27T00:00:00",
          "2014-01-26T00:00:00",
          null,
          "2023-08-17T00:00:00",
          "2014-01-28T00:00:00",
          "2010-11-12T00:00:00",
          "2018-03-23T00:00:00",
          "2018-06-19T00:00:00",
          "2013-07-11T00:00:00",
          "2013-06-18T00:00:00",
          "2013-05-20T00:00:00",
          "2018-04-20T00:00:00",
          "2011-09-11T00:00:00",
          "2011-08-07T00:00:00",
          "2010-08-06T00:00:00",
          null,
          "2010-12-17T00:00:00",
          "2015-12-07T00:00:00",
          null,
          "2011-02-26T00:00:00",
          "2013-02-12T00:00:00",
          "2015-11-10T00:00:00",
          "2009-06-15T00:00:00",
          "2016-11-08T00:00:00",
          "2007-05-04T00:00:00",
          "2011-09-01T00:00:00",
          "2007-05-04T00:00:00",
          "2013-06-18T00:00:00",
          "2011-02-05T00:00:00",
          "2016-12-09T00:00:00",
          null,
          "2011-06-18T00:00:00",
          "2015-07-24T00:00:00",
          "2013-04-30T00:00:00",
          "2021-05-14T00:00:00",
          "2013-11-19T00:00:00",
          "2013-04-30T00:00:00",
          "2011-09-27T00:00:00",
          "2007-05-04T00:00:00",
          "2021-12-10T00:00:00",
          "2017-11-27T00:00:00",
          "2022-03-31T00:00:00",
          "2010-10-30T00:00:00",
          "2010-11-21T00:00:00",
          "2011-04-19T00:00:00",
          "2012-01-17T00:00:00",
          null,
          "2010-11-12T00:00:00",
          "2013-04-30T00:00:00",
          "2013-06-04T00:00:00",
          "2014-01-28T00:00:00",
          "2013-02-12T00:00:00",
          "2023-03-03T00:00:00",
          "2011-09-27T00:00:00",
          "2007-05-04T00:00:00",
          "2009-06-15T00:00:00",
          "2016-12-09T00:00:00",
          null,
          "2023-01-24T00:00:00",
          "2011-05-04T00:00:00",
          "2009-07-28T00:00:00",
          "2007-05-04T00:00:00",
          "2009-06-15T00:00:00",
          "2011-09-27T00:00:00",
          "2019-06-12T00:00:00",
          "2019-06-12T00:00:00",
          null,
          "2009-06-15T00:00:00",
          "2011-08-01T00:00:00",
          "2017-03-10T00:00:00",
          "2010-11-12T00:00:00",
          "2016-12-02T00:00:00",
          "2023-11-17T00:00:00",
          "2016-12-09T00:00:00",
          "2019-05-07T00:00:00",
          "2020-03-27T00:00:00",
          "2016-12-01T00:00:00",
          "2019-09-20T00:00:00",
          "2010-11-12T00:00:00",
          "2010-12-10T00:00:00",
          "2014-12-09T00:00:00",
          "2023-10-06T00:00:00",
          "2011-05-23T00:00:00",
          "2012-01-13T00:00:00",
          "2016-12-09T00:00:00",
          "2015-12-08T00:00:00",
          "2013-06-18T00:00:00",
          "2016-12-09T00:00:00",
          "2018-08-24T00:00:00",
          "2022-03-31T00:00:00",
          "2012-09-14T00:00:00",
          "2010-11-12T00:00:00",
          "2018-04-20T00:00:00",
          "2018-08-24T00:00:00",
          "2013-06-17T00:00:00",
          "2013-01-01T00:00:00",
          "2013-01-01T00:00:00",
          "2009-06-15T00:00:00",
          null,
          "2007-05-04T00:00:00",
          "2011-09-27T00:00:00",
          "2007-05-04T00:00:00",
          "2014-12-09T00:00:00",
          null,
          "2018-08-24T00:00:00",
          "2012-09-03T00:00:00",
          "2012-02-22T00:00:00",
          "2009-06-15T00:00:00",
          "2023-03-03T00:00:00",
          "2013-04-30T00:00:00",
          "2009-06-15T00:00:00",
          "2021-09-21T00:00:00",
          "2011-09-04T00:00:00",
          "2014-12-09T00:00:00",
          "2013-10-22T00:00:00",
          "2010-06-13T00:00:00",
          "2017-01-16T00:00:00",
          "2011-04-12T00:00:00",
          "2009-06-15T00:00:00",
          "2023-12-15T00:00:00",
          "2007-05-04T00:00:00",
          "2010-11-12T00:00:00",
          null,
          "2019-02-22T00:00:00",
          "2011-07-31T00:00:00",
          "2021-05-14T00:00:00",
          "2018-08-03T00:00:00",
          "2018-08-24T00:00:00",
          "2007-05-04T00:00:00",
          "2009-06-15T00:00:00",
          null,
          "2012-09-17T00:00:00",
          "2016-12-09T00:00:00",
          "2012-08-29T00:00:00",
          null,
          "2007-05-04T00:00:00",
          "2018-08-24T00:00:00",
          "2021-05-07T00:00:00",
          "2011-09-27T00:00:00",
          null,
          "2010-11-12T00:00:00",
          "2023-03-03T00:00:00",
          "2011-09-27T00:00:00",
          "2014-12-05T00:00:00",
          "2018-04-20T00:00:00",
          "2007-05-04T00:00:00",
          "2009-06-15T00:00:00",
          "2014-11-09T00:00:00",
          "2013-06-18T00:00:00",
          "2013-05-07T00:00:00",
          "2010-08-17T00:00:00",
          "2014-12-09T00:00:00",
          "2016-01-28T00:00:00",
          null,
          "2021-05-12T00:00:00",
          null,
          "2016-07-29T00:00:00",
          "2022-06-17T00:00:00",
          "2013-06-22T00:00:00",
          "2022-01-28T00:00:00",
          "2009-01-01T00:00:00",
          "2009-06-15T00:00:00",
          "2013-04-30T00:00:00",
          "2013-06-18T00:00:00",
          "2018-04-20T00:00:00",
          "2011-03-15T00:00:00",
          "2014-10-22T00:00:00",
          "2009-06-15T00:00:00",
          "2011-07-31T00:00:00",
          "2014-10-03T00:00:00",
          "2018-04-20T00:00:00",
          "2009-06-15T00:00:00",
          "2019-09-06T00:00:00",
          "2013-06-18T00:00:00",
          "2009-06-15T00:00:00",
          "2017-03-10T00:00:00",
          "2023-03-03T00:00:00",
          "2017-04-07T00:00:00",
          "2021-05-14T00:00:00",
          null,
          "2023-12-08T00:00:00",
          "2013-06-18T00:00:00",
          "2022-03-31T00:00:00",
          "2009-06-15T00:00:00",
          "2011-07-31T00:00:00",
          "2011-12-16T00:00:00",
          "2007-05-04T00:00:00",
          "2014-01-28T00:00:00",
          "2020-07-22T00:00:00",
          "2013-06-17T00:00:00",
          "2017-11-09T00:00:00",
          "2022-04-08T00:00:00",
          "2010-11-05T00:00:00",
          "2010-09-29T00:00:00",
          "2009-06-15T00:00:00",
          "2011-09-27T00:00:00",
          "2012-11-22T00:00:00",
          null,
          "2010-11-12T00:00:00",
          "2014-12-09T00:00:00",
          "2016-01-28T00:00:00",
          "2023-02-03T00:00:00",
          "2013-06-22T00:00:00",
          "2021-11-05T00:00:00",
          "2013-04-18T00:00:00",
          "2011-11-06T00:00:00",
          "2014-01-28T00:00:00",
          "2019-01-23T00:00:00",
          "2007-05-04T00:00:00",
          "2012-11-13T00:00:00",
          "2012-12-07T00:00:00",
          null,
          "2013-06-18T00:00:00",
          "2018-04-20T00:00:00",
          "2015-12-18T00:00:00",
          "2011-09-14T00:00:00",
          "2018-09-14T00:00:00",
          "2021-05-14T00:00:00",
          "2014-04-29T00:00:00",
          "2018-04-14T00:00:00",
          null,
          "2016-12-09T00:00:00",
          "2016-12-12T00:00:00",
          "2011-09-04T00:00:00",
          "2011-09-27T00:00:00",
          "2013-06-18T00:00:00",
          "2013-05-30T00:00:00",
          "2015-12-04T00:00:00",
          "2012-02-07T00:00:00",
          null,
          "2014-12-09T00:00:00",
          "2016-01-28T00:00:00",
          "2015-07-22T00:00:00",
          "2014-12-09T00:00:00",
          "2011-09-27T00:00:00",
          null,
          "2018-11-06T00:00:00",
          "2023-03-03T00:00:00",
          "2019-07-05T00:00:00",
          "2018-04-20T00:00:00",
          "2011-08-16T00:00:00",
          "2023-03-03T00:00:00",
          null,
          "2018-06-15T00:00:00",
          "2013-04-09T00:00:00",
          "2023-12-15T00:00:00",
          "2011-10-24T00:00:00",
          null,
          "2023-07-19T00:00:00",
          "2018-04-20T00:00:00",
          "2018-04-09T00:00:00",
          "2011-07-31T00:00:00",
          "2015-01-27T00:00:00",
          "2015-06-03T00:00:00",
          null,
          "2022-09-09T00:00:00",
          "2021-09-30T00:00:00",
          "2013-01-01T00:00:00",
          "2017-03-22T00:00:00",
          "2024-02-21T00:00:00",
          "2013-02-14T00:00:00",
          "2012-12-11T00:00:00",
          "2010-07-16T00:00:00",
          "2018-09-14T00:00:00",
          "2019-01-23T00:00:00",
          "2021-05-14T00:00:00",
          "2010-07-29T00:00:00",
          "2023-01-18T00:00:00",
          "2017-06-07T00:00:00",
          "2019-07-12T00:00:00",
          "2021-05-14T00:00:00",
          "2018-08-24T00:00:00",
          "2019-05-20T00:00:00",
          "2019-05-16T00:00:00",
          null,
          "2022-08-31T00:00:00",
          "2007-05-04T00:00:00",
          "2012-05-17T00:00:00",
          null,
          "2007-05-04T00:00:00",
          "2009-06-19T00:00:00",
          "2010-10-04T00:00:00",
          "2019-07-05T00:00:00",
          "2011-05-23T00:00:00",
          "2014-01-28T00:00:00",
          "2013-06-18T00:00:00",
          "2013-02-12T00:00:00",
          "2011-09-27T00:00:00",
          "2019-07-23T00:00:00",
          "2011-08-07T00:00:00",
          "2009-06-15T00:00:00",
          "2013-06-18T00:00:00",
          "2019-07-05T00:00:00",
          "2018-08-24T00:00:00",
          "2014-06-24T00:00:00",
          "2018-11-02T00:00:00",
          "2022-02-04T00:00:00",
          "2007-05-04T00:00:00",
          "2011-05-10T00:00:00",
          "2010-11-12T00:00:00",
          "2011-09-05T00:00:00",
          "2023-03-03T00:00:00",
          "2018-11-16T00:00:00",
          "2013-10-29T00:00:00",
          "2016-12-09T00:00:00",
          "2016-12-09T00:00:00",
          "2011-05-13T00:00:00",
          "2009-06-10T00:00:00",
          null,
          "2011-09-27T00:00:00",
          "2007-05-04T00:00:00",
          "2018-11-26T00:00:00",
          null,
          "2011-04-15T00:00:00",
          null,
          "2020-06-16T00:00:00",
          "2018-10-26T00:00:00",
          "2011-04-09T00:00:00",
          "2013-06-18T00:00:00",
          "2007-05-04T00:00:00",
          "2010-09-19T00:00:00",
          "2022-08-26T00:00:00",
          "2013-02-12T00:00:00",
          null,
          "2022-03-31T00:00:00",
          "2015-12-07T00:00:00",
          "2021-10-15T00:00:00",
          "2014-12-09T00:00:00",
          "2019-07-05T00:00:00",
          "2017-09-04T00:00:00",
          "2013-02-12T00:00:00",
          "2011-02-14T00:00:00",
          "2023-08-25T00:00:00",
          "2010-11-12T00:00:00",
          "2009-06-15T00:00:00",
          "2020-07-22T00:00:00",
          "2007-05-04T00:00:00",
          "2022-06-26T00:00:00",
          null,
          "2018-04-20T00:00:00",
          null,
          "2021-07-09T00:00:00",
          "2012-10-20T00:00:00",
          null,
          "2019-05-23T00:00:00",
          null,
          "2020-07-10T00:00:00",
          "2015-03-31T00:00:00",
          "2010-09-22T00:00:00",
          "2023-08-25T00:00:00",
          "2023-09-28T00:00:00",
          "2010-01-01T00:00:00",
          "2012-08-21T00:00:00",
          "2015-07-21T00:00:00",
          "2012-03-20T00:00:00",
          null,
          "2007-05-04T00:00:00",
          "2018-04-18T00:00:00",
          "2009-06-15T00:00:00",
          "2013-12-16T00:00:00",
          "2010-11-12T00:00:00",
          "2023-05-19T00:00:00",
          "2018-08-22T00:00:00",
          "2018-11-16T00:00:00",
          "2013-06-18T00:00:00",
          "2011-08-11T00:00:00",
          "2012-01-13T00:00:00",
          "2011-05-09T00:00:00",
          "2023-01-25T00:00:00",
          "2011-07-31T00:00:00",
          "2011-10-11T00:00:00",
          "2019-07-05T00:00:00",
          "2013-07-02T00:00:00",
          "2010-09-05T00:00:00",
          "2016-12-08T00:00:00",
          "2013-06-18T00:00:00",
          "2012-03-02T00:00:00",
          "2016-12-02T00:00:00",
          "2015-05-28T00:00:00",
          "2022-02-25T00:00:00",
          "2009-06-15T00:00:00",
          "2009-06-15T00:00:00",
          null,
          "2014-12-09T00:00:00",
          "2013-06-18T00:00:00",
          "2010-05-31T00:00:00",
          "2011-09-07T00:00:00",
          "2012-01-27T00:00:00",
          "2016-12-02T00:00:00",
          "2018-04-20T00:00:00",
          "2013-07-09T00:00:00",
          "2011-06-15T00:00:00",
          "2009-06-15T00:00:00",
          "2010-11-12T00:00:00",
          "2021-09-24T00:00:00",
          "2018-02-13T00:00:00"
         ],
         "xaxis": "x",
         "y": [
          1359508,
          379986,
          15445,
          1668448,
          324833,
          96041,
          18205,
          8967,
          158756,
          6136,
          202396,
          176550,
          1770680,
          73488,
          790118,
          9063,
          125809,
          513007,
          179658,
          306037,
          419185,
          555117,
          26598,
          49658,
          2635658,
          107515,
          845132,
          236166,
          36508,
          19887,
          1968192,
          503899,
          407988,
          11284,
          1614917,
          6464,
          1176236,
          11916,
          242579,
          87138,
          222011,
          225158,
          419060,
          192638,
          46716,
          126038,
          64031,
          696779,
          96082,
          23473,
          13304,
          31921,
          152540,
          188646,
          79054,
          202199,
          971773,
          16136,
          601195,
          226801,
          38783,
          7996,
          8728,
          19549,
          179108,
          10824,
          13223,
          283880,
          16389,
          139366,
          56256,
          64088,
          757873,
          22981,
          361457,
          8023,
          1247645,
          7592,
          172711,
          12608,
          179718,
          287128,
          181693,
          564111,
          253631,
          57718,
          8438,
          727109,
          14026,
          66456,
          459803,
          124707,
          63493,
          9048,
          91014,
          110089,
          2803138,
          45921,
          220397,
          8344,
          187643,
          36679,
          179026,
          2435882,
          67977,
          5549,
          30999,
          9828,
          48007,
          77743,
          351292,
          808609,
          6647,
          69393,
          524668,
          28679,
          151638,
          133096,
          879139,
          205993,
          5805,
          25123,
          5829,
          1082173,
          173838,
          159476,
          21119,
          1790766,
          1016431,
          52142,
          23447,
          565535,
          177170,
          1420291,
          630324,
          15041,
          49352,
          16561,
          71190,
          711184,
          17841,
          34647,
          53588,
          22331,
          45063,
          93128,
          12363,
          182826,
          14387,
          2116377,
          17374,
          9682,
          253457,
          265071,
          199117,
          5167,
          350943,
          55061,
          258960,
          25387,
          590340,
          96071,
          163890,
          514739,
          1676037,
          158398,
          12191,
          11915,
          105235,
          7821,
          196552,
          95806,
          429709,
          567594,
          35336,
          10657,
          159680,
          32579,
          89449,
          1259555,
          110948,
          14207,
          43722,
          11279,
          894807,
          28714,
          59544,
          946893,
          5053,
          64283,
          461093,
          227787,
          10780,
          54490,
          48681,
          548675,
          7675,
          37864,
          1203184,
          5122,
          210414,
          342086,
          89232,
          295748,
          870288,
          562256,
          350171,
          67869,
          58093,
          247217,
          106296,
          1844707,
          55346,
          21237,
          51496,
          49894,
          299834,
          1687930,
          52408,
          27923,
          796747,
          91050,
          132215,
          5502,
          213747,
          599512,
          75000,
          210092,
          1103178,
          21151,
          562872,
          118009,
          10878,
          30954,
          31496,
          413736,
          374561,
          11342,
          273348,
          330177,
          14993,
          218440,
          876854,
          127305,
          16467,
          151290,
          2410866,
          10512,
          29294,
          339538,
          432535,
          26107,
          17005,
          66186,
          2727620,
          9501,
          382988,
          30325,
          29677,
          331124,
          626054,
          226229,
          314238,
          113685,
          1222795,
          224899,
          6595,
          35809,
          1625631,
          12864,
          25374,
          172913,
          272500,
          332832,
          330763,
          1083199,
          13086,
          5893052,
          14824,
          157352,
          580004,
          258682,
          18080,
          871869,
          6185,
          235467,
          427571,
          49587,
          163851,
          8703,
          270467,
          25102,
          6941,
          81097,
          22052,
          24580,
          824593,
          35113,
          32493,
          2598022,
          68161,
          11473,
          12951,
          50341,
          10527,
          6565,
          24266,
          3919487,
          327592,
          241394,
          1809365,
          7035,
          925201,
          71221,
          77230,
          8158,
          50403,
          370459,
          68376,
          210352,
          6885,
          57663,
          10112,
          22350,
          10427,
          10108,
          31264,
          42231,
          34314,
          160521,
          276373,
          249221,
          1244493,
          108626,
          392761,
          310650,
          35258,
          33424,
          794232,
          1097468,
          8810,
          57942,
          45868,
          89563,
          53138,
          34884,
          121833,
          6382,
          10446,
          367027,
          2597703,
          1003969,
          704723,
          35333,
          35955,
          73481,
          562412,
          103013,
          138382,
          19952,
          7387,
          17337,
          962311,
          87142,
          29295,
          746510,
          25094,
          28455,
          87468,
          163202,
          12216,
          222351,
          45870,
          74231,
          433838,
          201295,
          16977,
          165672,
          221205,
          55341,
          162955,
          160271,
          986528,
          29814,
          10366,
          265812,
          673392,
          6955,
          89342,
          449806,
          24785,
          1530239,
          9026,
          97469,
          144221,
          9606,
          40233,
          174922,
          45194,
          147727,
          74630,
          21962,
          96984,
          23919,
          43408,
          52204,
          403938,
          464201,
          96146,
          491319,
          142671,
          653486,
          40882,
          31176,
          20433,
          39784,
          55301,
          34967,
          1304487,
          28981,
          191141,
          565935,
          1072403,
          34174,
          35592,
          260031,
          52793,
          32083,
          132215,
          13466,
          3435157,
          62180,
          209159,
          26991,
          12067,
          19336,
          599804,
          97543,
          1306047,
          84475,
          193080,
          293574,
          189915
         ],
         "yaxis": "y"
        }
       ],
       "layout": {
        "legend": {
         "tracegroupgap": 0
        },
        "template": {
         "data": {
          "bar": [
           {
            "error_x": {
             "color": "#2a3f5f"
            },
            "error_y": {
             "color": "#2a3f5f"
            },
            "marker": {
             "line": {
              "color": "#E5ECF6",
              "width": 0.5
             },
             "pattern": {
              "fillmode": "overlay",
              "size": 10,
              "solidity": 0.2
             }
            },
            "type": "bar"
           }
          ],
          "barpolar": [
           {
            "marker": {
             "line": {
              "color": "#E5ECF6",
              "width": 0.5
             },
             "pattern": {
              "fillmode": "overlay",
              "size": 10,
              "solidity": 0.2
             }
            },
            "type": "barpolar"
           }
          ],
          "carpet": [
           {
            "aaxis": {
             "endlinecolor": "#2a3f5f",
             "gridcolor": "white",
             "linecolor": "white",
             "minorgridcolor": "white",
             "startlinecolor": "#2a3f5f"
            },
            "baxis": {
             "endlinecolor": "#2a3f5f",
             "gridcolor": "white",
             "linecolor": "white",
             "minorgridcolor": "white",
             "startlinecolor": "#2a3f5f"
            },
            "type": "carpet"
           }
          ],
          "choropleth": [
           {
            "colorbar": {
             "outlinewidth": 0,
             "ticks": ""
            },
            "type": "choropleth"
           }
          ],
          "contour": [
           {
            "colorbar": {
             "outlinewidth": 0,
             "ticks": ""
            },
            "colorscale": [
             [
              0,
              "#0d0887"
             ],
             [
              0.1111111111111111,
              "#46039f"
             ],
             [
              0.2222222222222222,
              "#7201a8"
             ],
             [
              0.3333333333333333,
              "#9c179e"
             ],
             [
              0.4444444444444444,
              "#bd3786"
             ],
             [
              0.5555555555555556,
              "#d8576b"
             ],
             [
              0.6666666666666666,
              "#ed7953"
             ],
             [
              0.7777777777777778,
              "#fb9f3a"
             ],
             [
              0.8888888888888888,
              "#fdca26"
             ],
             [
              1,
              "#f0f921"
             ]
            ],
            "type": "contour"
           }
          ],
          "contourcarpet": [
           {
            "colorbar": {
             "outlinewidth": 0,
             "ticks": ""
            },
            "type": "contourcarpet"
           }
          ],
          "heatmap": [
           {
            "colorbar": {
             "outlinewidth": 0,
             "ticks": ""
            },
            "colorscale": [
             [
              0,
              "#0d0887"
             ],
             [
              0.1111111111111111,
              "#46039f"
             ],
             [
              0.2222222222222222,
              "#7201a8"
             ],
             [
              0.3333333333333333,
              "#9c179e"
             ],
             [
              0.4444444444444444,
              "#bd3786"
             ],
             [
              0.5555555555555556,
              "#d8576b"
             ],
             [
              0.6666666666666666,
              "#ed7953"
             ],
             [
              0.7777777777777778,
              "#fb9f3a"
             ],
             [
              0.8888888888888888,
              "#fdca26"
             ],
             [
              1,
              "#f0f921"
             ]
            ],
            "type": "heatmap"
           }
          ],
          "heatmapgl": [
           {
            "colorbar": {
             "outlinewidth": 0,
             "ticks": ""
            },
            "colorscale": [
             [
              0,
              "#0d0887"
             ],
             [
              0.1111111111111111,
              "#46039f"
             ],
             [
              0.2222222222222222,
              "#7201a8"
             ],
             [
              0.3333333333333333,
              "#9c179e"
             ],
             [
              0.4444444444444444,
              "#bd3786"
             ],
             [
              0.5555555555555556,
              "#d8576b"
             ],
             [
              0.6666666666666666,
              "#ed7953"
             ],
             [
              0.7777777777777778,
              "#fb9f3a"
             ],
             [
              0.8888888888888888,
              "#fdca26"
             ],
             [
              1,
              "#f0f921"
             ]
            ],
            "type": "heatmapgl"
           }
          ],
          "histogram": [
           {
            "marker": {
             "pattern": {
              "fillmode": "overlay",
              "size": 10,
              "solidity": 0.2
             }
            },
            "type": "histogram"
           }
          ],
          "histogram2d": [
           {
            "colorbar": {
             "outlinewidth": 0,
             "ticks": ""
            },
            "colorscale": [
             [
              0,
              "#0d0887"
             ],
             [
              0.1111111111111111,
              "#46039f"
             ],
             [
              0.2222222222222222,
              "#7201a8"
             ],
             [
              0.3333333333333333,
              "#9c179e"
             ],
             [
              0.4444444444444444,
              "#bd3786"
             ],
             [
              0.5555555555555556,
              "#d8576b"
             ],
             [
              0.6666666666666666,
              "#ed7953"
             ],
             [
              0.7777777777777778,
              "#fb9f3a"
             ],
             [
              0.8888888888888888,
              "#fdca26"
             ],
             [
              1,
              "#f0f921"
             ]
            ],
            "type": "histogram2d"
           }
          ],
          "histogram2dcontour": [
           {
            "colorbar": {
             "outlinewidth": 0,
             "ticks": ""
            },
            "colorscale": [
             [
              0,
              "#0d0887"
             ],
             [
              0.1111111111111111,
              "#46039f"
             ],
             [
              0.2222222222222222,
              "#7201a8"
             ],
             [
              0.3333333333333333,
              "#9c179e"
             ],
             [
              0.4444444444444444,
              "#bd3786"
             ],
             [
              0.5555555555555556,
              "#d8576b"
             ],
             [
              0.6666666666666666,
              "#ed7953"
             ],
             [
              0.7777777777777778,
              "#fb9f3a"
             ],
             [
              0.8888888888888888,
              "#fdca26"
             ],
             [
              1,
              "#f0f921"
             ]
            ],
            "type": "histogram2dcontour"
           }
          ],
          "mesh3d": [
           {
            "colorbar": {
             "outlinewidth": 0,
             "ticks": ""
            },
            "type": "mesh3d"
           }
          ],
          "parcoords": [
           {
            "line": {
             "colorbar": {
              "outlinewidth": 0,
              "ticks": ""
             }
            },
            "type": "parcoords"
           }
          ],
          "pie": [
           {
            "automargin": true,
            "type": "pie"
           }
          ],
          "scatter": [
           {
            "fillpattern": {
             "fillmode": "overlay",
             "size": 10,
             "solidity": 0.2
            },
            "type": "scatter"
           }
          ],
          "scatter3d": [
           {
            "line": {
             "colorbar": {
              "outlinewidth": 0,
              "ticks": ""
             }
            },
            "marker": {
             "colorbar": {
              "outlinewidth": 0,
              "ticks": ""
             }
            },
            "type": "scatter3d"
           }
          ],
          "scattercarpet": [
           {
            "marker": {
             "colorbar": {
              "outlinewidth": 0,
              "ticks": ""
             }
            },
            "type": "scattercarpet"
           }
          ],
          "scattergeo": [
           {
            "marker": {
             "colorbar": {
              "outlinewidth": 0,
              "ticks": ""
             }
            },
            "type": "scattergeo"
           }
          ],
          "scattergl": [
           {
            "marker": {
             "colorbar": {
              "outlinewidth": 0,
              "ticks": ""
             }
            },
            "type": "scattergl"
           }
          ],
          "scattermapbox": [
           {
            "marker": {
             "colorbar": {
              "outlinewidth": 0,
              "ticks": ""
             }
            },
            "type": "scattermapbox"
           }
          ],
          "scatterpolar": [
           {
            "marker": {
             "colorbar": {
              "outlinewidth": 0,
              "ticks": ""
             }
            },
            "type": "scatterpolar"
           }
          ],
          "scatterpolargl": [
           {
            "marker": {
             "colorbar": {
              "outlinewidth": 0,
              "ticks": ""
             }
            },
            "type": "scatterpolargl"
           }
          ],
          "scatterternary": [
           {
            "marker": {
             "colorbar": {
              "outlinewidth": 0,
              "ticks": ""
             }
            },
            "type": "scatterternary"
           }
          ],
          "surface": [
           {
            "colorbar": {
             "outlinewidth": 0,
             "ticks": ""
            },
            "colorscale": [
             [
              0,
              "#0d0887"
             ],
             [
              0.1111111111111111,
              "#46039f"
             ],
             [
              0.2222222222222222,
              "#7201a8"
             ],
             [
              0.3333333333333333,
              "#9c179e"
             ],
             [
              0.4444444444444444,
              "#bd3786"
             ],
             [
              0.5555555555555556,
              "#d8576b"
             ],
             [
              0.6666666666666666,
              "#ed7953"
             ],
             [
              0.7777777777777778,
              "#fb9f3a"
             ],
             [
              0.8888888888888888,
              "#fdca26"
             ],
             [
              1,
              "#f0f921"
             ]
            ],
            "type": "surface"
           }
          ],
          "table": [
           {
            "cells": {
             "fill": {
              "color": "#EBF0F8"
             },
             "line": {
              "color": "white"
             }
            },
            "header": {
             "fill": {
              "color": "#C8D4E3"
             },
             "line": {
              "color": "white"
             }
            },
            "type": "table"
           }
          ]
         },
         "layout": {
          "annotationdefaults": {
           "arrowcolor": "#2a3f5f",
           "arrowhead": 0,
           "arrowwidth": 1
          },
          "autotypenumbers": "strict",
          "coloraxis": {
           "colorbar": {
            "outlinewidth": 0,
            "ticks": ""
           }
          },
          "colorscale": {
           "diverging": [
            [
             0,
             "#8e0152"
            ],
            [
             0.1,
             "#c51b7d"
            ],
            [
             0.2,
             "#de77ae"
            ],
            [
             0.3,
             "#f1b6da"
            ],
            [
             0.4,
             "#fde0ef"
            ],
            [
             0.5,
             "#f7f7f7"
            ],
            [
             0.6,
             "#e6f5d0"
            ],
            [
             0.7,
             "#b8e186"
            ],
            [
             0.8,
             "#7fbc41"
            ],
            [
             0.9,
             "#4d9221"
            ],
            [
             1,
             "#276419"
            ]
           ],
           "sequential": [
            [
             0,
             "#0d0887"
            ],
            [
             0.1111111111111111,
             "#46039f"
            ],
            [
             0.2222222222222222,
             "#7201a8"
            ],
            [
             0.3333333333333333,
             "#9c179e"
            ],
            [
             0.4444444444444444,
             "#bd3786"
            ],
            [
             0.5555555555555556,
             "#d8576b"
            ],
            [
             0.6666666666666666,
             "#ed7953"
            ],
            [
             0.7777777777777778,
             "#fb9f3a"
            ],
            [
             0.8888888888888888,
             "#fdca26"
            ],
            [
             1,
             "#f0f921"
            ]
           ],
           "sequentialminus": [
            [
             0,
             "#0d0887"
            ],
            [
             0.1111111111111111,
             "#46039f"
            ],
            [
             0.2222222222222222,
             "#7201a8"
            ],
            [
             0.3333333333333333,
             "#9c179e"
            ],
            [
             0.4444444444444444,
             "#bd3786"
            ],
            [
             0.5555555555555556,
             "#d8576b"
            ],
            [
             0.6666666666666666,
             "#ed7953"
            ],
            [
             0.7777777777777778,
             "#fb9f3a"
            ],
            [
             0.8888888888888888,
             "#fdca26"
            ],
            [
             1,
             "#f0f921"
            ]
           ]
          },
          "colorway": [
           "#636efa",
           "#EF553B",
           "#00cc96",
           "#ab63fa",
           "#FFA15A",
           "#19d3f3",
           "#FF6692",
           "#B6E880",
           "#FF97FF",
           "#FECB52"
          ],
          "font": {
           "color": "#2a3f5f"
          },
          "geo": {
           "bgcolor": "white",
           "lakecolor": "white",
           "landcolor": "#E5ECF6",
           "showlakes": true,
           "showland": true,
           "subunitcolor": "white"
          },
          "hoverlabel": {
           "align": "left"
          },
          "hovermode": "closest",
          "mapbox": {
           "style": "light"
          },
          "paper_bgcolor": "white",
          "plot_bgcolor": "#E5ECF6",
          "polar": {
           "angularaxis": {
            "gridcolor": "white",
            "linecolor": "white",
            "ticks": ""
           },
           "bgcolor": "#E5ECF6",
           "radialaxis": {
            "gridcolor": "white",
            "linecolor": "white",
            "ticks": ""
           }
          },
          "scene": {
           "xaxis": {
            "backgroundcolor": "#E5ECF6",
            "gridcolor": "white",
            "gridwidth": 2,
            "linecolor": "white",
            "showbackground": true,
            "ticks": "",
            "zerolinecolor": "white"
           },
           "yaxis": {
            "backgroundcolor": "#E5ECF6",
            "gridcolor": "white",
            "gridwidth": 2,
            "linecolor": "white",
            "showbackground": true,
            "ticks": "",
            "zerolinecolor": "white"
           },
           "zaxis": {
            "backgroundcolor": "#E5ECF6",
            "gridcolor": "white",
            "gridwidth": 2,
            "linecolor": "white",
            "showbackground": true,
            "ticks": "",
            "zerolinecolor": "white"
           }
          },
          "shapedefaults": {
           "line": {
            "color": "#2a3f5f"
           }
          },
          "ternary": {
           "aaxis": {
            "gridcolor": "white",
            "linecolor": "white",
            "ticks": ""
           },
           "baxis": {
            "gridcolor": "white",
            "linecolor": "white",
            "ticks": ""
           },
           "bgcolor": "#E5ECF6",
           "caxis": {
            "gridcolor": "white",
            "linecolor": "white",
            "ticks": ""
           }
          },
          "title": {
           "x": 0.05
          },
          "xaxis": {
           "automargin": true,
           "gridcolor": "white",
           "linecolor": "white",
           "ticks": "",
           "title": {
            "standoff": 15
           },
           "zerolinecolor": "white",
           "zerolinewidth": 2
          },
          "yaxis": {
           "automargin": true,
           "gridcolor": "white",
           "linecolor": "white",
           "ticks": "",
           "title": {
            "standoff": 15
           },
           "zerolinecolor": "white",
           "zerolinewidth": 2
          }
         }
        },
        "title": {
         "text": "View Count for J. Cole"
        },
        "xaxis": {
         "anchor": "y",
         "domain": [
          0,
          1
         ],
         "title": {
          "text": "Release Date"
         }
        },
        "yaxis": {
         "anchor": "x",
         "domain": [
          0,
          1
         ],
         "title": {
          "text": "View Count"
         }
        }
       }
      }
     },
     "metadata": {},
     "output_type": "display_data"
    },
    {
     "name": "stdout",
     "output_type": "stream",
     "text": [
      "          Song Title  View Count Release Date\n",
      "0    03' Adolescence     1359508   2014-12-09\n",
      "1    1 0 0 . m i l ’      379986   2021-05-14\n",
      "2     1-888-88-DREAM       15445   2014-01-28\n",
      "3               1985     1668448   2018-04-20\n",
      "4               1993      324833   2019-07-05\n",
      "..               ...         ...          ...\n",
      "438         Work Out     1306047   2011-06-15\n",
      "439   World is Empty       84475   2009-06-15\n",
      "440       You Got It      193080   2010-11-12\n",
      "441       Your Heart      293574   2021-09-24\n",
      "442          Zendaya      189915   2018-02-13\n",
      "\n",
      "[443 rows x 3 columns]\n"
     ]
    }
   ],
   "source": [
    "import requests\n",
    "import pandas as pd\n",
    "import plotly.express as px\n",
    "\n",
    "# Set up Genius API credentials\n",
    "access_token = \"-fy2dpbY6GKJ93XPpsNRLz-2KJGwFYgOqVjxf-qet5ebM0X5cU-HOXKkNvvjAQqF\"\n",
    "base_url = \"https://api.genius.com\"\n",
    "artist_name = 'J. Cole'\n",
    "\n",
    "# Build the search URL for the artist\n",
    "search_url = f'{base_url}/search?q={artist_name}'\n",
    "\n",
    "# Set up headers with Genius API token\n",
    "header = {\n",
    "    'Authorization': f'Bearer {access_token}'\n",
    "}\n",
    "\n",
    "# Make a request to the Genius API\n",
    "response = requests.get(search_url, headers=header)\n",
    "data = response.json()\n",
    "\n",
    "# Check if artist information is available\n",
    "if 'hits' in data['response'] and data['response']['hits']:\n",
    "    # Access artist information\n",
    "    artist_id = data['response']['hits'][0]['result']['primary_artist']['id']\n",
    "\n",
    "    # Initialize variables for pagination, Genius only allows 20 songs at once\n",
    "    per_page = 20\n",
    "    page = 1\n",
    "    all_artist_songs = []\n",
    "\n",
    "    # Fetch all songs for the artist using pagination\n",
    "    while True:\n",
    "        artist_songs_url = f'{base_url}/artists/{artist_id}/songs?per_page={per_page}&page={page}'\n",
    "\n",
    "        response = requests.get(artist_songs_url, headers=header)\n",
    "        songs_data = response.json()['response']['songs']\n",
    "\n",
    "        if not songs_data:\n",
    "            break  # No more songs, exit the loop\n",
    "\n",
    "        # Append songs to the list\n",
    "        all_artist_songs.extend(songs_data)\n",
    "\n",
    "        page += 1\n",
    "\n",
    "    # Remove songs without 'pageviews' field\n",
    "    all_artist_songs = [song for song in all_artist_songs if 'stats' in song and 'pageviews' in song['stats']]\n",
    "\n",
    "    # Extract data for plotting\n",
    "    song_titles = [song['title'] for song in all_artist_songs]\n",
    "    view_counts = [song['stats']['pageviews'] for song in all_artist_songs]\n",
    "    release_dates = [song['release_date_components'] for song in all_artist_songs]\n",
    "\n",
    "    # Create a DataFrame from the extracted data\n",
    "    df = pd.DataFrame({\n",
    "        'Song Title': song_titles,\n",
    "        'View Count': view_counts,\n",
    "        'Release Date': release_dates\n",
    "    })\n",
    "\n",
    "    # Convert release dates to a readable format \n",
    "    df['Release Date'] = pd.to_datetime(df['Release Date'].apply(lambda x: f\"{x['year']}-{x['month']}-{x['day']}\" if x is not None else None), errors='coerce')\n",
    "\n",
    "    # Create an interactive scatter plot\n",
    "    fig = px.scatter(df, x='Release Date', y='View Count', text='Song Title', title=f'View Count for {artist_name}')\n",
    "    \n",
    "    # Customize plot details\n",
    "    fig.update_traces(textposition='top center', texttemplate='%{text}', hovertemplate='%{text}<br>Release Date: %{x}<br>View Count: %{y}', mode='markers')\n",
    "\n",
    "    fig.show()\n",
    "\n",
    "else:\n",
    "    print(f\"Artist '{artist_name}' not found.\")\n",
    "\n",
    "# Display the DataFrame\n",
    "print(df)\n",
    "\n",
    "\n"
   ]
  },
  {
   "cell_type": "markdown",
   "metadata": {},
   "source": [
    "Based on the graph above, it appears that J. Cole's standout year was 2014. Despite releasing a substantial amount of music in the years between 2010 and 2013, the view counts for each were subpar compared to 2014. Notably, this was the year of one of his most iconic albums, \"2014 Forest Hills Drive.\"\n",
    "\n",
    "With that context, in the chunk below, I will conduct further regression analysis on all songs released in 2014. The objective is to explore if valence, the measure of how positive a song sounds, played a role in their popularity. Given that the Genius API lacks such data, I will utilize the Spotify API to access valence information. This analysis aims to unveil insights into the relationship between valence and view counts, and wether they contributed to Jcoles most succesful year"
   ]
  },
  {
   "cell_type": "code",
   "execution_count": 2,
   "metadata": {},
   "outputs": [
    {
     "name": "stdout",
     "output_type": "stream",
     "text": [
      "                                            Track Name  Valence\n",
      "0    Stick (with JID & J. Cole feat. Kenny Mason & ...    0.597\n",
      "1    Ghetto Gods Freestyle (with EARTHGANG feat. 2 ...    0.584\n",
      "2                 Lifestyle (with Bas feat. A$AP Ferg)    0.586\n",
      "3                  Starting 5 (with Lute, Cozz & Omen)    0.713\n",
      "4                        Coming Down (with Ari Lennox)    0.622\n",
      "..                                                 ...      ...\n",
      "154                            90 Proof (with J. Cole)    0.528\n",
      "155                             LONDON (feat. J. Cole)    0.563\n",
      "156      Scared Money (feat. J. Cole and Moneybagg Yo)    0.661\n",
      "157                                   Johnny P's Caddy    0.581\n",
      "158                        Poke It Out (feat. J. Cole)    0.803\n",
      "\n",
      "[159 rows x 2 columns]\n"
     ]
    }
   ],
   "source": [
    "# Set up Genius API credentials (50 daily limit)\n",
    "client_id = \"1e6f9168e7a14e6fa864b7417bf97416\"\n",
    "client_secret = \"736e86b1c08a40b88c967e3392ee57e9\"\n",
    "\n",
    "# Spotify API endpoint for obtaining an access token\n",
    "token_url = \"https://accounts.spotify.com/api/token\"\n",
    "\n",
    "# Set up the headers and payload for the token request\n",
    "headers = {\n",
    "    \"Content-Type\": \"application/x-www-form-urlencoded\",\n",
    "}\n",
    "\n",
    "payload = {\n",
    "    \"grant_type\": \"client_credentials\",\n",
    "    \"client_id\": client_id,\n",
    "    \"client_secret\": client_secret,\n",
    "}\n",
    "\n",
    "response = requests.post(token_url, headers=headers, data=payload)\n",
    "token_data = response.json()\n",
    "\n",
    "\n",
    "# Check if the access token was obtained successfully\n",
    "if \"access_token\" in token_data:\n",
    "    access_token = token_data[\"access_token\"]\n",
    "    track_cache = {}  # Memoization cache\n",
    "\n",
    "    def get_track_info(track_id):\n",
    "        # Check if track information is already in the cache\n",
    "        if track_id in track_cache:\n",
    "            return track_cache[track_id]\n",
    "\n",
    "        # Make API call to get track information\n",
    "        track_url = f\"https://api.spotify.com/v1/audio-features/{track_id}\"\n",
    "        track_response = requests.get(track_url, headers=headers)\n",
    "        track_data = track_response.json()\n",
    "\n",
    "        # Check if the track information was retrieved successfully\n",
    "        if \"valence\" in track_data:\n",
    "            # Cache the track information\n",
    "            track_cache[track_id] = track_data\n",
    "            return track_data\n",
    "        else:\n",
    "            print(f\"Unable to retrieve valence for track with ID {track_id}\")\n",
    "            return None\n",
    "\n",
    "    # Get all tracks for Jcole, artist_id obtained online\n",
    "    artist_id = \"6l3HvQ5sa6mXTsMTB19rO5\"  # J. Cole's artist ID\n",
    "    artist_url = f\"https://api.spotify.com/v1/artists/{artist_id}/albums\"\n",
    "    headers = {\n",
    "        \"Authorization\": f\"Bearer {access_token}\",\n",
    "    }\n",
    "\n",
    "    artist_response = requests.get(artist_url, headers=headers)\n",
    "    artist_data = artist_response.json()\n",
    "\n",
    "    # Check if the artist information was retrieved successfully\n",
    "    if \"items\" in artist_data:\n",
    "        all_tracks = []\n",
    "\n",
    "        # Iterate through each album and get its tracks\n",
    "        for album in artist_data[\"items\"]:\n",
    "            album_id = album[\"id\"]\n",
    "            album_url = f\"https://api.spotify.com/v1/albums/{album_id}/tracks\"\n",
    "\n",
    "            album_response = requests.get(album_url, headers=headers)\n",
    "            album_tracks = album_response.json()[\"items\"]\n",
    "\n",
    "            # Add the tracks to the list\n",
    "            all_tracks.extend(album_tracks)\n",
    "\n",
    "        # Create a DataFrame to store the data\n",
    "        df_data = {'Track Name': [], 'Valence': []}\n",
    "\n",
    "        # Populate the DataFrame with track information\n",
    "        for track in all_tracks:\n",
    "            track_id = track[\"id\"]\n",
    "            track_info = get_track_info(track_id)\n",
    "\n",
    "            if track_info:\n",
    "                # Append data to the DataFrame\n",
    "                df_data['Track Name'].append(track['name'])\n",
    "                df_data['Valence'].append(track_info['valence'])\n",
    "\n",
    "        # Create a DataFrame from the collected data\n",
    "        spotify_df = pd.DataFrame(df_data)\n",
    "\n",
    "        # Print the DataFrame\n",
    "        print(spotify_df)\n",
    "\n",
    "    else:\n",
    "        print(\"Unable to retrieve artist information.\")\n",
    "else:\n",
    "    print(\"Failed to obtain access token.\") \n"
   ]
  },
  {
   "cell_type": "markdown",
   "metadata": {},
   "source": [
    "In the above Chunck, I created a datatable containing the song name and Valence from the Spotify API. "
   ]
  },
  {
   "cell_type": "code",
   "execution_count": 4,
   "metadata": {},
   "outputs": [
    {
     "name": "stdout",
     "output_type": "stream",
     "text": [
      "          Song Title  View Count Release Date\n",
      "0    03' Adolescence     1359509   2014-12-09\n",
      "1    1 0 0 . m i l ’      379988   2021-05-14\n",
      "2     1-888-88-DREAM       15445   2014-01-28\n",
      "3               1985     1668448   2018-04-20\n",
      "4               1993      324833   2019-07-05\n",
      "..               ...         ...          ...\n",
      "438         Work Out     1306047   2011-06-15\n",
      "439   World is Empty       84475   2009-06-15\n",
      "440       You Got It      193080   2010-11-12\n",
      "441       Your Heart      293574   2021-09-24\n",
      "442          Zendaya      189915   2018-02-13\n",
      "\n",
      "[443 rows x 3 columns]\n"
     ]
    }
   ],
   "source": [
    "if 'hits' in data['response'] and data['response']['hits']:\n",
    "    # Access artist information\n",
    "    artist_id = data['response']['hits'][0]['result']['primary_artist']['id']\n",
    "\n",
    "    # Initialize variables for pagination, Genius only allows 20 songs at once\n",
    "    per_page = 20\n",
    "    page = 1\n",
    "    all_artist_songs = []\n",
    "\n",
    "    while True:\n",
    "        genius_artist_songs_url = f'{base_url}/artists/{artist_id}/songs?per_page={per_page}&page={page}'\n",
    "        genius_response = requests.get(genius_artist_songs_url, headers=header)\n",
    "        genius_songs_data = genius_response.json()['response']['songs']\n",
    "\n",
    "        if not genius_songs_data:\n",
    "            break  # No more songs, exit the loop\n",
    "\n",
    "        # Append songs to the list\n",
    "        all_artist_songs.extend(genius_songs_data)\n",
    "        page += 1\n",
    "\n",
    "    # Remove songs without 'pageviews' field\n",
    "    all_artist_songs = [song for song in all_artist_songs if 'stats' in song and 'pageviews' in song['stats']]\n",
    "\n",
    "    # Extract data for DataFrame\n",
    "    song_titles = [song['title'] for song in all_artist_songs]\n",
    "    view_counts = [song['stats']['pageviews'] for song in all_artist_songs]\n",
    "    release_dates = [song['release_date_components'] for song in all_artist_songs]\n",
    "\n",
    "    # Create DataFrame\n",
    "    genius_df = pd.DataFrame({\n",
    "        'Song Title': song_titles,\n",
    "        'View Count': view_counts,\n",
    "        'Release Date': release_dates\n",
    "    })\n",
    "\n",
    "    # Convert release dates to a readable format\n",
    "    genius_df['Release Date'] = pd.to_datetime(genius_df['Release Date'].apply(lambda x: f\"{x['year']}-{x['month']}-{x['day']}\" if x is not None else None), errors='coerce')\n",
    "\n",
    "    # Print the DataFrame\n",
    "    print(genius_df)\n",
    "\n",
    "else:\n",
    "    print(f\"Artist '{artist_name}' not found.\")"
   ]
  },
  {
   "cell_type": "markdown",
   "metadata": {},
   "source": [
    "In the code chunck above, I have also extracted the song title, the view count and the release Date from the Geniues API. Now that these two dataframes have a column in column, I will be merging them using the song title column and preprocess the resulting data."
   ]
  },
  {
   "cell_type": "code",
   "execution_count": null,
   "metadata": {},
   "outputs": [
    {
     "name": "stdout",
     "output_type": "stream",
     "text": [
      "                                      Song Title  Valence\n",
      "0        stickwithjidjcolefeatkennymasonsheckwes    0.597\n",
      "1    ghettogodsfreestylewithearthgangfeat2chainz    0.584\n",
      "2                    lifestylewithbasfeataapferg    0.586\n",
      "3                      starting5withlutecozzomen    0.713\n",
      "4                        comingdownwitharilennox    0.622\n",
      "..                                           ...      ...\n",
      "154                             90proofwithjcole    0.528\n",
      "155                              londonfeatjcole    0.563\n",
      "156           scaredmoneyfeatjcoleandmoneybaggyo    0.661\n",
      "157                                johnnypscaddy    0.581\n",
      "158                           pokeitoutfeatjcole    0.803\n",
      "\n",
      "[159 rows x 2 columns]\n",
      "        Song Title  View Count Release Date\n",
      "0    03adolescence     1351819   2014-12-09\n",
      "1           100mil      377657   2021-05-14\n",
      "2      188888dream       15391   2014-01-28\n",
      "3             1985     1661272   2018-04-20\n",
      "4             1993      321945   2019-07-05\n",
      "..             ...         ...          ...\n",
      "430        workout     1294859   2011-06-15\n",
      "431   worldisempty       83630   2009-06-15\n",
      "432       yougotit      191459   2010-11-12\n",
      "433      yourheart      291507   2021-09-24\n",
      "434        zendaya      189256   2018-02-13\n",
      "\n",
      "[435 rows x 3 columns]\n"
     ]
    },
    {
     "name": "stderr",
     "output_type": "stream",
     "text": [
      "C:\\Users\\rageg\\AppData\\Local\\Temp\\ipykernel_24584\\1204633249.py:7: FutureWarning:\n",
      "\n",
      "The default value of regex will change from True to False in a future version.\n",
      "\n",
      "C:\\Users\\rageg\\AppData\\Local\\Temp\\ipykernel_24584\\1204633249.py:10: FutureWarning:\n",
      "\n",
      "The default value of regex will change from True to False in a future version.\n",
      "\n"
     ]
    }
   ],
   "source": [
    "#Data cleaning\n",
    "spotify_df.rename(columns={'Track Name': 'Song Title'}, inplace=True)\n",
    "\n",
    "# Remove non-alphanumeric characters and multiple whitespaces for Spotify dataframe\n",
    "spotify_df['Song Title'] = spotify_df['Song Title'].str.lower().str.replace(r'\\W+', '').str.strip()\n",
    "\n",
    "# Remove non-alphanumeric characters and multiple whitespaces for Genius dataframe\n",
    "genius_df['Song Title'] = genius_df['Song Title'].str.lower().str.replace(r'\\W+', '').str.strip()\n",
    "\n",
    "\n",
    "print(spotify_df)\n",
    "print(genius_df)"
   ]
  },
  {
   "cell_type": "code",
   "execution_count": null,
   "metadata": {},
   "outputs": [
    {
     "name": "stdout",
     "output_type": "stream",
     "text": [
      "          Song Title  Valence  View Count Release Date\n",
      "0            95south    0.203      782910   2021-05-14\n",
      "1              amari    0.207      838013   2021-05-14\n",
      "2   applyingpressure    0.404      499742   2021-05-14\n",
      "3    punchintheclock    0.692      366753   2021-05-14\n",
      "4          interlude    0.104      889422   2021-05-07\n",
      "..               ...      ...         ...          ...\n",
      "71          godsgift    0.439      182085   2011-09-27\n",
      "72         breakdown    0.489      226127   2011-09-11\n",
      "73           workout    0.216     1294859   2011-06-15\n",
      "74   thesecretrecipe    0.690      159654   2023-09-28\n",
      "75     johnnypscaddy    0.581      332571   2022-01-28\n",
      "\n",
      "[71 rows x 4 columns]\n"
     ]
    }
   ],
   "source": [
    "#Merging the two datasets on Song Title\n",
    "merged_df = pd.merge(spotify_df, genius_df, on='Song Title', how='inner')\n",
    "#print(merged_df)\n",
    "\n",
    "#Removing Duplicate songs.\n",
    "merged_df = merged_df.drop_duplicates(subset=\"Song Title\", keep=\"first\")\n",
    "print(merged_df)\n",
    "\n",
    "\n",
    "\n",
    "\n"
   ]
  },
  {
   "cell_type": "markdown",
   "metadata": {},
   "source": [
    "I have successfully merged the two datasets around common song. To do this, I made every value under the song title column lowercase, removed all spaces, and compared the equality of their value for the merging. This ensured that all of the songs that have been merged are indeed the same version. Those that could not be merged correctly, were ignored for the purpose of accuracy.  Below I will plot the Valence vs Viewcount of all of Jcoles 2014 songs to see if their level of happiness at the time, impacted their viewcout."
   ]
  },
  {
   "cell_type": "code",
   "execution_count": null,
   "metadata": {},
   "outputs": [
    {
     "name": "stdout",
     "output_type": "stream",
     "text": [
      "        Song Title  Valence  View Count Release Date\n",
      "33     january28th    0.342     1190226   2014-12-09\n",
      "34       wetdreamz    0.539     3410812   2014-12-09\n",
      "35   03adolescence    0.260     1351819   2014-12-09\n",
      "36  ataleof2citiez    0.343     1609267   2014-12-09\n",
      "37       firesquad    0.574     1783506   2014-12-09\n",
      "38        sttropez    0.317      431325   2014-12-09\n",
      "39            gomd    0.336     2107936   2014-12-09\n",
      "40    norolemodelz    0.494     5828446   2014-12-09\n",
      "41           hello    0.318      588160   2014-12-09\n",
      "42      apparently    0.570     1960485   2014-12-09\n",
      "43       loveyourz    0.435     2386453   2014-12-09\n",
      "44      notetoself    0.333      573823   2014-12-09\n"
     ]
    },
    {
     "data": {
      "application/vnd.plotly.v1+json": {
       "config": {
        "plotlyServerURL": "https://plot.ly"
       },
       "data": [
        {
         "hovertemplate": "%{text}<br>Valence: %{x}<br>View Count: %{y}",
         "legendgroup": "",
         "marker": {
          "color": "#636efa",
          "symbol": "circle"
         },
         "mode": "markers",
         "name": "",
         "orientation": "v",
         "showlegend": false,
         "text": [
          "january28th",
          "wetdreamz",
          "03adolescence",
          "ataleof2citiez",
          "firesquad",
          "sttropez",
          "gomd",
          "norolemodelz",
          "hello",
          "apparently",
          "loveyourz",
          "notetoself"
         ],
         "textposition": "top center",
         "texttemplate": "%{text}",
         "type": "scatter",
         "x": [
          0.342,
          0.539,
          0.26,
          0.343,
          0.574,
          0.317,
          0.336,
          0.494,
          0.318,
          0.57,
          0.435,
          0.333
         ],
         "xaxis": "x",
         "y": [
          1190226,
          3410812,
          1351819,
          1609267,
          1783506,
          431325,
          2107936,
          5828446,
          588160,
          1960485,
          2386453,
          573823
         ],
         "yaxis": "y"
        }
       ],
       "layout": {
        "legend": {
         "tracegroupgap": 0
        },
        "template": {
         "data": {
          "bar": [
           {
            "error_x": {
             "color": "#2a3f5f"
            },
            "error_y": {
             "color": "#2a3f5f"
            },
            "marker": {
             "line": {
              "color": "#E5ECF6",
              "width": 0.5
             },
             "pattern": {
              "fillmode": "overlay",
              "size": 10,
              "solidity": 0.2
             }
            },
            "type": "bar"
           }
          ],
          "barpolar": [
           {
            "marker": {
             "line": {
              "color": "#E5ECF6",
              "width": 0.5
             },
             "pattern": {
              "fillmode": "overlay",
              "size": 10,
              "solidity": 0.2
             }
            },
            "type": "barpolar"
           }
          ],
          "carpet": [
           {
            "aaxis": {
             "endlinecolor": "#2a3f5f",
             "gridcolor": "white",
             "linecolor": "white",
             "minorgridcolor": "white",
             "startlinecolor": "#2a3f5f"
            },
            "baxis": {
             "endlinecolor": "#2a3f5f",
             "gridcolor": "white",
             "linecolor": "white",
             "minorgridcolor": "white",
             "startlinecolor": "#2a3f5f"
            },
            "type": "carpet"
           }
          ],
          "choropleth": [
           {
            "colorbar": {
             "outlinewidth": 0,
             "ticks": ""
            },
            "type": "choropleth"
           }
          ],
          "contour": [
           {
            "colorbar": {
             "outlinewidth": 0,
             "ticks": ""
            },
            "colorscale": [
             [
              0,
              "#0d0887"
             ],
             [
              0.1111111111111111,
              "#46039f"
             ],
             [
              0.2222222222222222,
              "#7201a8"
             ],
             [
              0.3333333333333333,
              "#9c179e"
             ],
             [
              0.4444444444444444,
              "#bd3786"
             ],
             [
              0.5555555555555556,
              "#d8576b"
             ],
             [
              0.6666666666666666,
              "#ed7953"
             ],
             [
              0.7777777777777778,
              "#fb9f3a"
             ],
             [
              0.8888888888888888,
              "#fdca26"
             ],
             [
              1,
              "#f0f921"
             ]
            ],
            "type": "contour"
           }
          ],
          "contourcarpet": [
           {
            "colorbar": {
             "outlinewidth": 0,
             "ticks": ""
            },
            "type": "contourcarpet"
           }
          ],
          "heatmap": [
           {
            "colorbar": {
             "outlinewidth": 0,
             "ticks": ""
            },
            "colorscale": [
             [
              0,
              "#0d0887"
             ],
             [
              0.1111111111111111,
              "#46039f"
             ],
             [
              0.2222222222222222,
              "#7201a8"
             ],
             [
              0.3333333333333333,
              "#9c179e"
             ],
             [
              0.4444444444444444,
              "#bd3786"
             ],
             [
              0.5555555555555556,
              "#d8576b"
             ],
             [
              0.6666666666666666,
              "#ed7953"
             ],
             [
              0.7777777777777778,
              "#fb9f3a"
             ],
             [
              0.8888888888888888,
              "#fdca26"
             ],
             [
              1,
              "#f0f921"
             ]
            ],
            "type": "heatmap"
           }
          ],
          "heatmapgl": [
           {
            "colorbar": {
             "outlinewidth": 0,
             "ticks": ""
            },
            "colorscale": [
             [
              0,
              "#0d0887"
             ],
             [
              0.1111111111111111,
              "#46039f"
             ],
             [
              0.2222222222222222,
              "#7201a8"
             ],
             [
              0.3333333333333333,
              "#9c179e"
             ],
             [
              0.4444444444444444,
              "#bd3786"
             ],
             [
              0.5555555555555556,
              "#d8576b"
             ],
             [
              0.6666666666666666,
              "#ed7953"
             ],
             [
              0.7777777777777778,
              "#fb9f3a"
             ],
             [
              0.8888888888888888,
              "#fdca26"
             ],
             [
              1,
              "#f0f921"
             ]
            ],
            "type": "heatmapgl"
           }
          ],
          "histogram": [
           {
            "marker": {
             "pattern": {
              "fillmode": "overlay",
              "size": 10,
              "solidity": 0.2
             }
            },
            "type": "histogram"
           }
          ],
          "histogram2d": [
           {
            "colorbar": {
             "outlinewidth": 0,
             "ticks": ""
            },
            "colorscale": [
             [
              0,
              "#0d0887"
             ],
             [
              0.1111111111111111,
              "#46039f"
             ],
             [
              0.2222222222222222,
              "#7201a8"
             ],
             [
              0.3333333333333333,
              "#9c179e"
             ],
             [
              0.4444444444444444,
              "#bd3786"
             ],
             [
              0.5555555555555556,
              "#d8576b"
             ],
             [
              0.6666666666666666,
              "#ed7953"
             ],
             [
              0.7777777777777778,
              "#fb9f3a"
             ],
             [
              0.8888888888888888,
              "#fdca26"
             ],
             [
              1,
              "#f0f921"
             ]
            ],
            "type": "histogram2d"
           }
          ],
          "histogram2dcontour": [
           {
            "colorbar": {
             "outlinewidth": 0,
             "ticks": ""
            },
            "colorscale": [
             [
              0,
              "#0d0887"
             ],
             [
              0.1111111111111111,
              "#46039f"
             ],
             [
              0.2222222222222222,
              "#7201a8"
             ],
             [
              0.3333333333333333,
              "#9c179e"
             ],
             [
              0.4444444444444444,
              "#bd3786"
             ],
             [
              0.5555555555555556,
              "#d8576b"
             ],
             [
              0.6666666666666666,
              "#ed7953"
             ],
             [
              0.7777777777777778,
              "#fb9f3a"
             ],
             [
              0.8888888888888888,
              "#fdca26"
             ],
             [
              1,
              "#f0f921"
             ]
            ],
            "type": "histogram2dcontour"
           }
          ],
          "mesh3d": [
           {
            "colorbar": {
             "outlinewidth": 0,
             "ticks": ""
            },
            "type": "mesh3d"
           }
          ],
          "parcoords": [
           {
            "line": {
             "colorbar": {
              "outlinewidth": 0,
              "ticks": ""
             }
            },
            "type": "parcoords"
           }
          ],
          "pie": [
           {
            "automargin": true,
            "type": "pie"
           }
          ],
          "scatter": [
           {
            "fillpattern": {
             "fillmode": "overlay",
             "size": 10,
             "solidity": 0.2
            },
            "type": "scatter"
           }
          ],
          "scatter3d": [
           {
            "line": {
             "colorbar": {
              "outlinewidth": 0,
              "ticks": ""
             }
            },
            "marker": {
             "colorbar": {
              "outlinewidth": 0,
              "ticks": ""
             }
            },
            "type": "scatter3d"
           }
          ],
          "scattercarpet": [
           {
            "marker": {
             "colorbar": {
              "outlinewidth": 0,
              "ticks": ""
             }
            },
            "type": "scattercarpet"
           }
          ],
          "scattergeo": [
           {
            "marker": {
             "colorbar": {
              "outlinewidth": 0,
              "ticks": ""
             }
            },
            "type": "scattergeo"
           }
          ],
          "scattergl": [
           {
            "marker": {
             "colorbar": {
              "outlinewidth": 0,
              "ticks": ""
             }
            },
            "type": "scattergl"
           }
          ],
          "scattermapbox": [
           {
            "marker": {
             "colorbar": {
              "outlinewidth": 0,
              "ticks": ""
             }
            },
            "type": "scattermapbox"
           }
          ],
          "scatterpolar": [
           {
            "marker": {
             "colorbar": {
              "outlinewidth": 0,
              "ticks": ""
             }
            },
            "type": "scatterpolar"
           }
          ],
          "scatterpolargl": [
           {
            "marker": {
             "colorbar": {
              "outlinewidth": 0,
              "ticks": ""
             }
            },
            "type": "scatterpolargl"
           }
          ],
          "scatterternary": [
           {
            "marker": {
             "colorbar": {
              "outlinewidth": 0,
              "ticks": ""
             }
            },
            "type": "scatterternary"
           }
          ],
          "surface": [
           {
            "colorbar": {
             "outlinewidth": 0,
             "ticks": ""
            },
            "colorscale": [
             [
              0,
              "#0d0887"
             ],
             [
              0.1111111111111111,
              "#46039f"
             ],
             [
              0.2222222222222222,
              "#7201a8"
             ],
             [
              0.3333333333333333,
              "#9c179e"
             ],
             [
              0.4444444444444444,
              "#bd3786"
             ],
             [
              0.5555555555555556,
              "#d8576b"
             ],
             [
              0.6666666666666666,
              "#ed7953"
             ],
             [
              0.7777777777777778,
              "#fb9f3a"
             ],
             [
              0.8888888888888888,
              "#fdca26"
             ],
             [
              1,
              "#f0f921"
             ]
            ],
            "type": "surface"
           }
          ],
          "table": [
           {
            "cells": {
             "fill": {
              "color": "#EBF0F8"
             },
             "line": {
              "color": "white"
             }
            },
            "header": {
             "fill": {
              "color": "#C8D4E3"
             },
             "line": {
              "color": "white"
             }
            },
            "type": "table"
           }
          ]
         },
         "layout": {
          "annotationdefaults": {
           "arrowcolor": "#2a3f5f",
           "arrowhead": 0,
           "arrowwidth": 1
          },
          "autotypenumbers": "strict",
          "coloraxis": {
           "colorbar": {
            "outlinewidth": 0,
            "ticks": ""
           }
          },
          "colorscale": {
           "diverging": [
            [
             0,
             "#8e0152"
            ],
            [
             0.1,
             "#c51b7d"
            ],
            [
             0.2,
             "#de77ae"
            ],
            [
             0.3,
             "#f1b6da"
            ],
            [
             0.4,
             "#fde0ef"
            ],
            [
             0.5,
             "#f7f7f7"
            ],
            [
             0.6,
             "#e6f5d0"
            ],
            [
             0.7,
             "#b8e186"
            ],
            [
             0.8,
             "#7fbc41"
            ],
            [
             0.9,
             "#4d9221"
            ],
            [
             1,
             "#276419"
            ]
           ],
           "sequential": [
            [
             0,
             "#0d0887"
            ],
            [
             0.1111111111111111,
             "#46039f"
            ],
            [
             0.2222222222222222,
             "#7201a8"
            ],
            [
             0.3333333333333333,
             "#9c179e"
            ],
            [
             0.4444444444444444,
             "#bd3786"
            ],
            [
             0.5555555555555556,
             "#d8576b"
            ],
            [
             0.6666666666666666,
             "#ed7953"
            ],
            [
             0.7777777777777778,
             "#fb9f3a"
            ],
            [
             0.8888888888888888,
             "#fdca26"
            ],
            [
             1,
             "#f0f921"
            ]
           ],
           "sequentialminus": [
            [
             0,
             "#0d0887"
            ],
            [
             0.1111111111111111,
             "#46039f"
            ],
            [
             0.2222222222222222,
             "#7201a8"
            ],
            [
             0.3333333333333333,
             "#9c179e"
            ],
            [
             0.4444444444444444,
             "#bd3786"
            ],
            [
             0.5555555555555556,
             "#d8576b"
            ],
            [
             0.6666666666666666,
             "#ed7953"
            ],
            [
             0.7777777777777778,
             "#fb9f3a"
            ],
            [
             0.8888888888888888,
             "#fdca26"
            ],
            [
             1,
             "#f0f921"
            ]
           ]
          },
          "colorway": [
           "#636efa",
           "#EF553B",
           "#00cc96",
           "#ab63fa",
           "#FFA15A",
           "#19d3f3",
           "#FF6692",
           "#B6E880",
           "#FF97FF",
           "#FECB52"
          ],
          "font": {
           "color": "#2a3f5f"
          },
          "geo": {
           "bgcolor": "white",
           "lakecolor": "white",
           "landcolor": "#E5ECF6",
           "showlakes": true,
           "showland": true,
           "subunitcolor": "white"
          },
          "hoverlabel": {
           "align": "left"
          },
          "hovermode": "closest",
          "mapbox": {
           "style": "light"
          },
          "paper_bgcolor": "white",
          "plot_bgcolor": "#E5ECF6",
          "polar": {
           "angularaxis": {
            "gridcolor": "white",
            "linecolor": "white",
            "ticks": ""
           },
           "bgcolor": "#E5ECF6",
           "radialaxis": {
            "gridcolor": "white",
            "linecolor": "white",
            "ticks": ""
           }
          },
          "scene": {
           "xaxis": {
            "backgroundcolor": "#E5ECF6",
            "gridcolor": "white",
            "gridwidth": 2,
            "linecolor": "white",
            "showbackground": true,
            "ticks": "",
            "zerolinecolor": "white"
           },
           "yaxis": {
            "backgroundcolor": "#E5ECF6",
            "gridcolor": "white",
            "gridwidth": 2,
            "linecolor": "white",
            "showbackground": true,
            "ticks": "",
            "zerolinecolor": "white"
           },
           "zaxis": {
            "backgroundcolor": "#E5ECF6",
            "gridcolor": "white",
            "gridwidth": 2,
            "linecolor": "white",
            "showbackground": true,
            "ticks": "",
            "zerolinecolor": "white"
           }
          },
          "shapedefaults": {
           "line": {
            "color": "#2a3f5f"
           }
          },
          "ternary": {
           "aaxis": {
            "gridcolor": "white",
            "linecolor": "white",
            "ticks": ""
           },
           "baxis": {
            "gridcolor": "white",
            "linecolor": "white",
            "ticks": ""
           },
           "bgcolor": "#E5ECF6",
           "caxis": {
            "gridcolor": "white",
            "linecolor": "white",
            "ticks": ""
           }
          },
          "title": {
           "x": 0.05
          },
          "xaxis": {
           "automargin": true,
           "gridcolor": "white",
           "linecolor": "white",
           "ticks": "",
           "title": {
            "standoff": 15
           },
           "zerolinecolor": "white",
           "zerolinewidth": 2
          },
          "yaxis": {
           "automargin": true,
           "gridcolor": "white",
           "linecolor": "white",
           "ticks": "",
           "title": {
            "standoff": 15
           },
           "zerolinecolor": "white",
           "zerolinewidth": 2
          }
         }
        },
        "title": {
         "text": "Valence vs View Count for Songs Released in 2014"
        },
        "xaxis": {
         "anchor": "y",
         "domain": [
          0,
          1
         ],
         "title": {
          "text": "Valence"
         }
        },
        "yaxis": {
         "anchor": "x",
         "domain": [
          0,
          1
         ],
         "title": {
          "text": "View Count"
         }
        }
       }
      }
     },
     "metadata": {},
     "output_type": "display_data"
    },
    {
     "name": "stdout",
     "output_type": "stream",
     "text": [
      "Correlation Coefficient: 0.55918340013299\n"
     ]
    }
   ],
   "source": [
    "#Filtering for songs in 2014\n",
    "filtered_df = merged_df[merged_df['Release Date'].dt.year == 2014]\n",
    "print(filtered_df)\n",
    "\n",
    "fig = px.scatter(filtered_df, x='Valence', y='View Count', text='Song Title', title='Valence vs View Count for Songs Released in 2014',\n",
    "                 labels={'Valence': 'Valence', 'View Count': 'View Count'})\n",
    "fig.update_traces(textposition='top center', texttemplate='%{text}', hovertemplate='%{text}<br>Valence: %{x}<br>View Count: %{y}', mode='markers')\n",
    "fig.show()\n",
    "\n",
    "#Ppringt coorelatoin coefficient for analysis\n",
    "correlation_coefficient = filtered_df['Valence'].corr(filtered_df['View Count'])\n",
    "print(f\"Correlation Coefficient: {correlation_coefficient}\")\n"
   ]
  },
  {
   "cell_type": "markdown",
   "metadata": {},
   "source": [
    "From the graph above it appears theres little to no coorelation between View Count and Valence for the songs released in 2014.  But as the correlation coefficient of 0.56 suggests, there seems to some correlation between the valence and the view count of the songs released in 2014. This suggesting with higher Valence, there seems to be somewhat of a higher view count in general.\n",
    "Let us see if this remains true in the next plot in valence vs Viewcount of all of the songs extracted.\n",
    "\n"
   ]
  },
  {
   "cell_type": "code",
   "execution_count": null,
   "metadata": {},
   "outputs": [
    {
     "data": {
      "application/vnd.plotly.v1+json": {
       "config": {
        "plotlyServerURL": "https://plot.ly"
       },
       "data": [
        {
         "hovertemplate": "%{text}<br>Valence: %{x}<br>View Count: %{y}",
         "legendgroup": "",
         "marker": {
          "color": "#636efa",
          "symbol": "circle"
         },
         "mode": "markers",
         "name": "",
         "orientation": "v",
         "showlegend": false,
         "text": [
          "95south",
          "amari",
          "applyingpressure",
          "punchintheclock",
          "interlude",
          "theclimbback",
          "close",
          "middlechild",
          "intro",
          "kod",
          "photograph",
          "atm",
          "motiv8",
          "kevinsheart",
          "brackets",
          "onceanaddictinterlude",
          "windowpainoutro",
          "forwhomthebelltolls",
          "immortal",
          "dejavu",
          "villementality",
          "shesminept1",
          "change",
          "neighbors",
          "foldinclothes",
          "shesminept2",
          "4youreyezonly",
          "norolemodelzlive",
          "loveyourzlive",
          "january28th",
          "wetdreamz",
          "03adolescence",
          "ataleof2citiez",
          "firesquad",
          "sttropez",
          "gomd",
          "norolemodelz",
          "hello",
          "apparently",
          "loveyourz",
          "notetoself",
          "villuminati",
          "kerneysermonskit",
          "landofthesnakes",
          "momoneyinterlude",
          "trouble",
          "runaway",
          "richniggaz",
          "wheresjermaineskit",
          "chainingday",
          "aintthatsomeshitinterlude",
          "letnasdown",
          "missamerica",
          "isshegonpop",
          "niggazknow",
          "dollarandadreamiii",
          "cantgetenough",
          "lightsplease",
          "sidelinestory",
          "mrnicewatch",
          "coleworld",
          "inthemorning",
          "lostones",
          "nobodysperfect",
          "nevertold",
          "riseandshine",
          "godsgift",
          "breakdown",
          "workout",
          "thesecretrecipe",
          "johnnypscaddy"
         ],
         "textposition": "top center",
         "texttemplate": "%{text}",
         "type": "scatter",
         "x": [
          0.203,
          0.207,
          0.404,
          0.692,
          0.104,
          0.319,
          0.515,
          0.513,
          0.545,
          0.199,
          0.358,
          0.351,
          0.596,
          0.475,
          0.658,
          0.138,
          0.179,
          0.185,
          0.266,
          0.181,
          0.642,
          0.0408,
          0.235,
          0.469,
          0.614,
          0.048,
          0.496,
          0.163,
          0.182,
          0.342,
          0.539,
          0.26,
          0.343,
          0.574,
          0.317,
          0.336,
          0.494,
          0.318,
          0.57,
          0.435,
          0.333,
          0.0483,
          0.966,
          0.475,
          0.477,
          0.079,
          0.0706,
          0.306,
          0.787,
          0.331,
          0.961,
          0.369,
          0.204,
          0.209,
          0.325,
          0.316,
          0.589,
          0.761,
          0.663,
          0.29,
          0.499,
          0.479,
          0.682,
          0.427,
          0.438,
          0.274,
          0.439,
          0.489,
          0.216,
          0.69,
          0.581
         ],
         "xaxis": "x",
         "y": [
          782904,
          838010,
          499738,
          366752,
          889417,
          979599,
          284806,
          2710901,
          63847,
          1684473,
          822659,
          1173546,
          624622,
          1834110,
          598237,
          425414,
          597450,
          627348,
          1255978,
          2425787,
          562973,
          996211,
          1238503,
          1617635,
          562492,
          695058,
          1756129,
          13668,
          8999,
          1190218,
          3410796,
          1351817,
          1609266,
          1783505,
          431324,
          2107929,
          5828399,
          588160,
          1960482,
          2386435,
          573819,
          1063498,
          105796,
          788949,
          329779,
          40782,
          791273,
          1236975,
          61917,
          358868,
          178819,
          1095804,
          382146,
          547015,
          332086,
          347696,
          753237,
          560547,
          559600,
          313201,
          252329,
          938901,
          873374,
          1078026,
          172277,
          390682,
          182085,
          226127,
          1294854,
          159644,
          332553
         ],
         "yaxis": "y"
        }
       ],
       "layout": {
        "legend": {
         "tracegroupgap": 0
        },
        "template": {
         "data": {
          "bar": [
           {
            "error_x": {
             "color": "#2a3f5f"
            },
            "error_y": {
             "color": "#2a3f5f"
            },
            "marker": {
             "line": {
              "color": "#E5ECF6",
              "width": 0.5
             },
             "pattern": {
              "fillmode": "overlay",
              "size": 10,
              "solidity": 0.2
             }
            },
            "type": "bar"
           }
          ],
          "barpolar": [
           {
            "marker": {
             "line": {
              "color": "#E5ECF6",
              "width": 0.5
             },
             "pattern": {
              "fillmode": "overlay",
              "size": 10,
              "solidity": 0.2
             }
            },
            "type": "barpolar"
           }
          ],
          "carpet": [
           {
            "aaxis": {
             "endlinecolor": "#2a3f5f",
             "gridcolor": "white",
             "linecolor": "white",
             "minorgridcolor": "white",
             "startlinecolor": "#2a3f5f"
            },
            "baxis": {
             "endlinecolor": "#2a3f5f",
             "gridcolor": "white",
             "linecolor": "white",
             "minorgridcolor": "white",
             "startlinecolor": "#2a3f5f"
            },
            "type": "carpet"
           }
          ],
          "choropleth": [
           {
            "colorbar": {
             "outlinewidth": 0,
             "ticks": ""
            },
            "type": "choropleth"
           }
          ],
          "contour": [
           {
            "colorbar": {
             "outlinewidth": 0,
             "ticks": ""
            },
            "colorscale": [
             [
              0,
              "#0d0887"
             ],
             [
              0.1111111111111111,
              "#46039f"
             ],
             [
              0.2222222222222222,
              "#7201a8"
             ],
             [
              0.3333333333333333,
              "#9c179e"
             ],
             [
              0.4444444444444444,
              "#bd3786"
             ],
             [
              0.5555555555555556,
              "#d8576b"
             ],
             [
              0.6666666666666666,
              "#ed7953"
             ],
             [
              0.7777777777777778,
              "#fb9f3a"
             ],
             [
              0.8888888888888888,
              "#fdca26"
             ],
             [
              1,
              "#f0f921"
             ]
            ],
            "type": "contour"
           }
          ],
          "contourcarpet": [
           {
            "colorbar": {
             "outlinewidth": 0,
             "ticks": ""
            },
            "type": "contourcarpet"
           }
          ],
          "heatmap": [
           {
            "colorbar": {
             "outlinewidth": 0,
             "ticks": ""
            },
            "colorscale": [
             [
              0,
              "#0d0887"
             ],
             [
              0.1111111111111111,
              "#46039f"
             ],
             [
              0.2222222222222222,
              "#7201a8"
             ],
             [
              0.3333333333333333,
              "#9c179e"
             ],
             [
              0.4444444444444444,
              "#bd3786"
             ],
             [
              0.5555555555555556,
              "#d8576b"
             ],
             [
              0.6666666666666666,
              "#ed7953"
             ],
             [
              0.7777777777777778,
              "#fb9f3a"
             ],
             [
              0.8888888888888888,
              "#fdca26"
             ],
             [
              1,
              "#f0f921"
             ]
            ],
            "type": "heatmap"
           }
          ],
          "heatmapgl": [
           {
            "colorbar": {
             "outlinewidth": 0,
             "ticks": ""
            },
            "colorscale": [
             [
              0,
              "#0d0887"
             ],
             [
              0.1111111111111111,
              "#46039f"
             ],
             [
              0.2222222222222222,
              "#7201a8"
             ],
             [
              0.3333333333333333,
              "#9c179e"
             ],
             [
              0.4444444444444444,
              "#bd3786"
             ],
             [
              0.5555555555555556,
              "#d8576b"
             ],
             [
              0.6666666666666666,
              "#ed7953"
             ],
             [
              0.7777777777777778,
              "#fb9f3a"
             ],
             [
              0.8888888888888888,
              "#fdca26"
             ],
             [
              1,
              "#f0f921"
             ]
            ],
            "type": "heatmapgl"
           }
          ],
          "histogram": [
           {
            "marker": {
             "pattern": {
              "fillmode": "overlay",
              "size": 10,
              "solidity": 0.2
             }
            },
            "type": "histogram"
           }
          ],
          "histogram2d": [
           {
            "colorbar": {
             "outlinewidth": 0,
             "ticks": ""
            },
            "colorscale": [
             [
              0,
              "#0d0887"
             ],
             [
              0.1111111111111111,
              "#46039f"
             ],
             [
              0.2222222222222222,
              "#7201a8"
             ],
             [
              0.3333333333333333,
              "#9c179e"
             ],
             [
              0.4444444444444444,
              "#bd3786"
             ],
             [
              0.5555555555555556,
              "#d8576b"
             ],
             [
              0.6666666666666666,
              "#ed7953"
             ],
             [
              0.7777777777777778,
              "#fb9f3a"
             ],
             [
              0.8888888888888888,
              "#fdca26"
             ],
             [
              1,
              "#f0f921"
             ]
            ],
            "type": "histogram2d"
           }
          ],
          "histogram2dcontour": [
           {
            "colorbar": {
             "outlinewidth": 0,
             "ticks": ""
            },
            "colorscale": [
             [
              0,
              "#0d0887"
             ],
             [
              0.1111111111111111,
              "#46039f"
             ],
             [
              0.2222222222222222,
              "#7201a8"
             ],
             [
              0.3333333333333333,
              "#9c179e"
             ],
             [
              0.4444444444444444,
              "#bd3786"
             ],
             [
              0.5555555555555556,
              "#d8576b"
             ],
             [
              0.6666666666666666,
              "#ed7953"
             ],
             [
              0.7777777777777778,
              "#fb9f3a"
             ],
             [
              0.8888888888888888,
              "#fdca26"
             ],
             [
              1,
              "#f0f921"
             ]
            ],
            "type": "histogram2dcontour"
           }
          ],
          "mesh3d": [
           {
            "colorbar": {
             "outlinewidth": 0,
             "ticks": ""
            },
            "type": "mesh3d"
           }
          ],
          "parcoords": [
           {
            "line": {
             "colorbar": {
              "outlinewidth": 0,
              "ticks": ""
             }
            },
            "type": "parcoords"
           }
          ],
          "pie": [
           {
            "automargin": true,
            "type": "pie"
           }
          ],
          "scatter": [
           {
            "fillpattern": {
             "fillmode": "overlay",
             "size": 10,
             "solidity": 0.2
            },
            "type": "scatter"
           }
          ],
          "scatter3d": [
           {
            "line": {
             "colorbar": {
              "outlinewidth": 0,
              "ticks": ""
             }
            },
            "marker": {
             "colorbar": {
              "outlinewidth": 0,
              "ticks": ""
             }
            },
            "type": "scatter3d"
           }
          ],
          "scattercarpet": [
           {
            "marker": {
             "colorbar": {
              "outlinewidth": 0,
              "ticks": ""
             }
            },
            "type": "scattercarpet"
           }
          ],
          "scattergeo": [
           {
            "marker": {
             "colorbar": {
              "outlinewidth": 0,
              "ticks": ""
             }
            },
            "type": "scattergeo"
           }
          ],
          "scattergl": [
           {
            "marker": {
             "colorbar": {
              "outlinewidth": 0,
              "ticks": ""
             }
            },
            "type": "scattergl"
           }
          ],
          "scattermapbox": [
           {
            "marker": {
             "colorbar": {
              "outlinewidth": 0,
              "ticks": ""
             }
            },
            "type": "scattermapbox"
           }
          ],
          "scatterpolar": [
           {
            "marker": {
             "colorbar": {
              "outlinewidth": 0,
              "ticks": ""
             }
            },
            "type": "scatterpolar"
           }
          ],
          "scatterpolargl": [
           {
            "marker": {
             "colorbar": {
              "outlinewidth": 0,
              "ticks": ""
             }
            },
            "type": "scatterpolargl"
           }
          ],
          "scatterternary": [
           {
            "marker": {
             "colorbar": {
              "outlinewidth": 0,
              "ticks": ""
             }
            },
            "type": "scatterternary"
           }
          ],
          "surface": [
           {
            "colorbar": {
             "outlinewidth": 0,
             "ticks": ""
            },
            "colorscale": [
             [
              0,
              "#0d0887"
             ],
             [
              0.1111111111111111,
              "#46039f"
             ],
             [
              0.2222222222222222,
              "#7201a8"
             ],
             [
              0.3333333333333333,
              "#9c179e"
             ],
             [
              0.4444444444444444,
              "#bd3786"
             ],
             [
              0.5555555555555556,
              "#d8576b"
             ],
             [
              0.6666666666666666,
              "#ed7953"
             ],
             [
              0.7777777777777778,
              "#fb9f3a"
             ],
             [
              0.8888888888888888,
              "#fdca26"
             ],
             [
              1,
              "#f0f921"
             ]
            ],
            "type": "surface"
           }
          ],
          "table": [
           {
            "cells": {
             "fill": {
              "color": "#EBF0F8"
             },
             "line": {
              "color": "white"
             }
            },
            "header": {
             "fill": {
              "color": "#C8D4E3"
             },
             "line": {
              "color": "white"
             }
            },
            "type": "table"
           }
          ]
         },
         "layout": {
          "annotationdefaults": {
           "arrowcolor": "#2a3f5f",
           "arrowhead": 0,
           "arrowwidth": 1
          },
          "autotypenumbers": "strict",
          "coloraxis": {
           "colorbar": {
            "outlinewidth": 0,
            "ticks": ""
           }
          },
          "colorscale": {
           "diverging": [
            [
             0,
             "#8e0152"
            ],
            [
             0.1,
             "#c51b7d"
            ],
            [
             0.2,
             "#de77ae"
            ],
            [
             0.3,
             "#f1b6da"
            ],
            [
             0.4,
             "#fde0ef"
            ],
            [
             0.5,
             "#f7f7f7"
            ],
            [
             0.6,
             "#e6f5d0"
            ],
            [
             0.7,
             "#b8e186"
            ],
            [
             0.8,
             "#7fbc41"
            ],
            [
             0.9,
             "#4d9221"
            ],
            [
             1,
             "#276419"
            ]
           ],
           "sequential": [
            [
             0,
             "#0d0887"
            ],
            [
             0.1111111111111111,
             "#46039f"
            ],
            [
             0.2222222222222222,
             "#7201a8"
            ],
            [
             0.3333333333333333,
             "#9c179e"
            ],
            [
             0.4444444444444444,
             "#bd3786"
            ],
            [
             0.5555555555555556,
             "#d8576b"
            ],
            [
             0.6666666666666666,
             "#ed7953"
            ],
            [
             0.7777777777777778,
             "#fb9f3a"
            ],
            [
             0.8888888888888888,
             "#fdca26"
            ],
            [
             1,
             "#f0f921"
            ]
           ],
           "sequentialminus": [
            [
             0,
             "#0d0887"
            ],
            [
             0.1111111111111111,
             "#46039f"
            ],
            [
             0.2222222222222222,
             "#7201a8"
            ],
            [
             0.3333333333333333,
             "#9c179e"
            ],
            [
             0.4444444444444444,
             "#bd3786"
            ],
            [
             0.5555555555555556,
             "#d8576b"
            ],
            [
             0.6666666666666666,
             "#ed7953"
            ],
            [
             0.7777777777777778,
             "#fb9f3a"
            ],
            [
             0.8888888888888888,
             "#fdca26"
            ],
            [
             1,
             "#f0f921"
            ]
           ]
          },
          "colorway": [
           "#636efa",
           "#EF553B",
           "#00cc96",
           "#ab63fa",
           "#FFA15A",
           "#19d3f3",
           "#FF6692",
           "#B6E880",
           "#FF97FF",
           "#FECB52"
          ],
          "font": {
           "color": "#2a3f5f"
          },
          "geo": {
           "bgcolor": "white",
           "lakecolor": "white",
           "landcolor": "#E5ECF6",
           "showlakes": true,
           "showland": true,
           "subunitcolor": "white"
          },
          "hoverlabel": {
           "align": "left"
          },
          "hovermode": "closest",
          "mapbox": {
           "style": "light"
          },
          "paper_bgcolor": "white",
          "plot_bgcolor": "#E5ECF6",
          "polar": {
           "angularaxis": {
            "gridcolor": "white",
            "linecolor": "white",
            "ticks": ""
           },
           "bgcolor": "#E5ECF6",
           "radialaxis": {
            "gridcolor": "white",
            "linecolor": "white",
            "ticks": ""
           }
          },
          "scene": {
           "xaxis": {
            "backgroundcolor": "#E5ECF6",
            "gridcolor": "white",
            "gridwidth": 2,
            "linecolor": "white",
            "showbackground": true,
            "ticks": "",
            "zerolinecolor": "white"
           },
           "yaxis": {
            "backgroundcolor": "#E5ECF6",
            "gridcolor": "white",
            "gridwidth": 2,
            "linecolor": "white",
            "showbackground": true,
            "ticks": "",
            "zerolinecolor": "white"
           },
           "zaxis": {
            "backgroundcolor": "#E5ECF6",
            "gridcolor": "white",
            "gridwidth": 2,
            "linecolor": "white",
            "showbackground": true,
            "ticks": "",
            "zerolinecolor": "white"
           }
          },
          "shapedefaults": {
           "line": {
            "color": "#2a3f5f"
           }
          },
          "ternary": {
           "aaxis": {
            "gridcolor": "white",
            "linecolor": "white",
            "ticks": ""
           },
           "baxis": {
            "gridcolor": "white",
            "linecolor": "white",
            "ticks": ""
           },
           "bgcolor": "#E5ECF6",
           "caxis": {
            "gridcolor": "white",
            "linecolor": "white",
            "ticks": ""
           }
          },
          "title": {
           "x": 0.05
          },
          "xaxis": {
           "automargin": true,
           "gridcolor": "white",
           "linecolor": "white",
           "ticks": "",
           "title": {
            "standoff": 15
           },
           "zerolinecolor": "white",
           "zerolinewidth": 2
          },
          "yaxis": {
           "automargin": true,
           "gridcolor": "white",
           "linecolor": "white",
           "ticks": "",
           "title": {
            "standoff": 15
           },
           "zerolinecolor": "white",
           "zerolinewidth": 2
          }
         }
        },
        "title": {
         "text": "Valence vs View Count"
        },
        "xaxis": {
         "anchor": "y",
         "domain": [
          0,
          1
         ],
         "title": {
          "text": "Valence"
         }
        },
        "yaxis": {
         "anchor": "x",
         "domain": [
          0,
          1
         ],
         "title": {
          "text": "View Count"
         }
        }
       }
      }
     },
     "metadata": {},
     "output_type": "display_data"
    }
   ],
   "source": [
    "fig = px.scatter(merged_df, x='Valence', y='View Count', text='Song Title', title='Valence vs View Count')\n",
    "fig.update_traces(textposition='top center', texttemplate='%{text}', hovertemplate='%{text}<br>Valence: %{x}<br>View Count: %{y}', mode='markers')\n",
    "\n",
    "\n",
    "fig.show()"
   ]
  },
  {
   "cell_type": "markdown",
   "metadata": {},
   "source": [
    "Based on the plot above, it can be observed that there can be little to no coorelation between how happy a soung sounds(valence) and how many views it gets in regard to the artist J.Cole. To further prove this I have extracted the correlation coefficient below."
   ]
  },
  {
   "cell_type": "code",
   "execution_count": null,
   "metadata": {},
   "outputs": [
    {
     "name": "stdout",
     "output_type": "stream",
     "text": [
      "Correlation between Valence and View Count: -0.03135861765395584\n"
     ]
    }
   ],
   "source": [
    "correlation = merged_df['Valence'].corr(merged_df['View Count'])\n",
    "print(f\"Correlation between Valence and View Count: {correlation}\")"
   ]
  },
  {
   "cell_type": "markdown",
   "metadata": {},
   "source": [
    "As previously observed, there is not much coorelation between valence and view count for the songs that was able to pass the preprocessing. \n",
    "\n",
    "\n",
    "Based on the analysis of J. Cole's songs, it appears that there is a moderate correlation between the valence (positivity) of his songs and their view count for the year 2014. However, when considering all of his songs, the correlation is less pronounced, suggesting that factors other than valence may contribute to the overall popularity of his music. Further investigation and analysis may be needed to uncover additional insights into the factors influencing the popularity of J. Cole's songs across different periods.\n"
   ]
  }
 ],
 "metadata": {
  "kernelspec": {
   "display_name": "Python 3 (ipykernel)",
   "language": "python",
   "name": "python3"
  },
  "language_info": {
   "codemirror_mode": {
    "name": "ipython",
    "version": 3
   },
   "file_extension": ".py",
   "mimetype": "text/x-python",
   "name": "python",
   "nbconvert_exporter": "python",
   "pygments_lexer": "ipython3",
   "version": "3.9.13"
  }
 },
 "nbformat": 4,
 "nbformat_minor": 2
}
